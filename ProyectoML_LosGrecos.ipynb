{
  "nbformat": 4,
  "nbformat_minor": 0,
  "metadata": {
    "colab": {
      "provenance": []
    },
    "kernelspec": {
      "display_name": "Python 3",
      "name": "python3"
    },
    "language_info": {
      "name": "python"
    }
  },
  "cells": [
    {
      "cell_type": "markdown",
      "metadata": {
        "id": "TeJH_a1_AIYF"
      },
      "source": [
        "# Introducción\n"
      ]
    },
    {
      "cell_type": "markdown",
      "metadata": {
        "id": "bz9xzrNH3BgK"
      },
      "source": [
        "Somos Lorena Gallego, Ignacio García y Aitor Chamizo. En este proyecto, nos proponemos modelar un clasificador para tumores primarios con el objetivo de aplicar los conocimientos de la asignatura Inteligencia Artificial y Aprendizaje, del grado en Ingeniería Biomédica (Universidad Rey Juan Carlos).\n",
        "\n",
        "A continuación, procedemos a analizar la base de datos con la que vamos a trabajar.\n",
        "\n",
        "La base de datos que hemos elegido es un conjunto de datos muy conocido acerca de **tumores primarios**. \n",
        "Esta base de datos está compuesta por **variables categóricas** principalmente, de tipo **multivariante**. Por tanto, a priori, el análisis que realizaremos será de **clasificación**.\n",
        "\n",
        "El **número de pacientes** que tenemos es de **339** mientras que el **número de atributos** es de **18**. Tenemos un total de 225 valores perdidos entre todas las categorías y pacientes.\n",
        "\n",
        "La fecha en la que se recogió esta base de datos es el 1 de noviembre de 1988, en el **instituto de Oncología** del centro médico universitario de **Liubliana, Eslovenia** (antigua Yugoslavia).\n",
        "\n",
        "Los **atributos** con los que se van a trabajar son:   \n",
        "-Clase de tumor   \n",
        "-Edad del paciente   \n",
        "-Sexo del paciente    \n",
        "-Tipo histológico del tumor    \n",
        "-Grado de diferenciación (parecido con las células de alrededor)   \n",
        "-Lugar de inicio (hueso, pleura, médula ósea, pulmón, pleura pulmonar, peritoneo, hígado, cerebro, piel, región supraclavicular, región axilar, mediastino o región abdominal).\n",
        "\n",
        "Un **tumor primario** es un tumor que crece en el sitio anatómico en el que empezó la progresión y procede a crear una masa cancerosa, sin metástasis. *Esta es la principal diferencia con los tumores secundarios*, que son aquellos que se distribuyen por otras partes del cuerpo.\n",
        "\n",
        "\n",
        "Podemos ver que la distribución en las 22 clases no es uniforme, es decir, no está equilibrada, en la distribución de clases que se indica en el archivo primary-tumor.names .\n"
      ]
    },
    {
      "cell_type": "markdown",
      "metadata": {
        "id": "CU-wraKlAAuM"
      },
      "source": [
        "# Código de análisis: Visualización de datos.\n",
        "---\n",
        "\n"
      ]
    },
    {
      "cell_type": "code",
      "metadata": {
        "id": "dti1x5BCAPkA"
      },
      "source": [
        "#A continuación, procedemos a leer la base de datos para ver qué aspecto tiene y cómo podemos trabajar\n",
        "#con bases de datos tipo .data. \n",
        "import pandas as pd \n",
        "import statistics as stats\n",
        "import sklearn.model_selection as skm\n",
        "columnas = ['class', 'age', 'sex', 'histologic-type', 'degree-of-diffe', 'bone', 'bone-marrow', 'lung', 'pleura', 'peritoneum', 'liver', 'brain', 'skin', 'neck', 'supraclavicular', 'axillar', 'mediastinum', 'abdominal']\n",
        "file = pd.read_csv('primary-tumor.data', sep=',', names = columnas) #Leemos el archivo como si fuese un CSV\n",
        "#Tal y como se advertía en la página web de la que obtuvimos los datos, el nombre de las variables \n",
        "#viene dado con números\n",
        "#Procedemos a cambiar el nombre de las columnas, para que sea más fácil determinar a qué se refiere\n",
        "#cada atributo.\n",
        "#Separamos los datos en training y test para preprocesar training.\n"
      ],
      "execution_count": null,
      "outputs": []
    },
    {
      "cell_type": "markdown",
      "metadata": {
        "id": "5soCtBSpJiul"
      },
      "source": [
        " # Código de preprocesado: Integración, limpieza, transformación y reducción de los datos\n",
        "---\n"
      ]
    },
    {
      "cell_type": "markdown",
      "metadata": {
        "id": "iaTUfkTz21GF"
      },
      "source": [
        "A continuación, procedemos a preprocesar los datos que tenemos para quedarnos con los elementos óptimos de la base y poder clasificar de la mejor manera posible."
      ]
    },
    {
      "cell_type": "code",
      "metadata": {
        "colab": {
          "base_uri": "https://localhost:8080/"
        },
        "id": "N2zwslxL3ADY",
        "outputId": "3d29dc16-0794-4669-c361-6ef0018a866b"
      },
      "source": [
        "#Empezaremos viendo qué aspecto tienen los datos. Para ello, procedemos a \n",
        "#importar algunas librerias\n",
        "import sklearn as sk\n",
        "import matplotlib.pyplot as plt\n",
        "import statistics as stat\n",
        "import numpy as np\n",
        "import seaborn as sns\n",
        "import scipy as sc\n",
        "import random\n",
        "!pip install miceforest \n",
        "import miceforest as mf\n",
        "\n",
        "\n"
      ],
      "execution_count": null,
      "outputs": [
        {
          "output_type": "stream",
          "name": "stdout",
          "text": [
            "Collecting miceforest\n",
            "  Downloading miceforest-5.1.2-py3-none-any.whl (69 kB)\n",
            "\u001b[K     |████████████████████████████████| 69 kB 3.5 MB/s \n",
            "\u001b[?25hRequirement already satisfied: numpy in /usr/local/lib/python3.7/dist-packages (from miceforest) (1.19.5)\n",
            "Requirement already satisfied: lightgbm in /usr/local/lib/python3.7/dist-packages (from miceforest) (2.2.3)\n",
            "Requirement already satisfied: scipy in /usr/local/lib/python3.7/dist-packages (from lightgbm->miceforest) (1.4.1)\n",
            "Requirement already satisfied: scikit-learn in /usr/local/lib/python3.7/dist-packages (from lightgbm->miceforest) (1.0.1)\n",
            "Requirement already satisfied: threadpoolctl>=2.0.0 in /usr/local/lib/python3.7/dist-packages (from scikit-learn->lightgbm->miceforest) (3.0.0)\n",
            "Requirement already satisfied: joblib>=0.11 in /usr/local/lib/python3.7/dist-packages (from scikit-learn->lightgbm->miceforest) (1.1.0)\n",
            "Installing collected packages: miceforest\n",
            "Successfully installed miceforest-5.1.2\n"
          ]
        }
      ]
    },
    {
      "cell_type": "markdown",
      "metadata": {
        "id": "yUKg9zlcBwvp"
      },
      "source": [
        "Limpieza de datos"
      ]
    },
    {
      "cell_type": "code",
      "metadata": {
        "colab": {
          "base_uri": "https://localhost:8080/",
          "height": 1000
        },
        "id": "Y_k4svqDBl1u",
        "outputId": "bbb66c4b-3da4-42a7-dd6d-75b32387bff5"
      },
      "source": [
        "#Como se puede ver, por haber valores NaN, no calcula los estadísticos de algunas de las columnas.\n",
        "file = file.replace('?', np.nan)\n",
        "\n",
        "#La primera aproximación que utilizamos fue intentar imputar el mejor valor para cada tipo de cáncer [1],[2],[3],[4],[5]. \n",
        "#Después, investigamos varios tipos de técnicas para eliminar estos valores [6], [7].\n",
        "\n",
        "#Finalmente, decidimos emplear el algoritmo MICE (multiple imputation by chained equations) para tratar los missing values.\n",
        "#Para aquellas categorías con solo un valor perdido, asumiremos que se ha perdido de forma aleatoria (Missing Completely at Random) \n",
        "#En el resto de casos, que son dos variables, observamos un porcentaje bastante alto de valores perdidos. Dado que parece que\n",
        "#son variables bastante importantes para predecir la aparición de tumores primarios en la literatura,\n",
        "#optamos por no eliminarlos.\n",
        "\n",
        "\n",
        "#Creamos el kernel de MICE, con cuatro datasets para poder comparar en gráficas con valores imputados diferentes.\n",
        "#En primer lugar, convertimos todas las variables en categóricas (en pandas están definidas como int64). [8]\n",
        "for col in columnas:\n",
        "    file[col] = file[col].astype('category',copy=False)\n",
        "#Proseguimos con el algoritmo.\n",
        "kernel = mf.ImputationKernel(\n",
        "  file,\n",
        "  save_all_iterations=True,\n",
        "  random_state=1\n",
        ")\n",
        "kernel.mice(3)\n",
        "completed_dataset = kernel.complete_data(dataset=0, inplace=False) #completed_dataset pasa a ser el nuevo archivo\n",
        "#con el que trabajamos\n",
        "print(completed_dataset.isnull().sum(0))\n",
        "\n",
        "#kernel.plot_imputed_distributions(wspace=0.35,hspace=0.4)\n",
        "completed_dataset.head(20) #para comprobar que el print anterior es real."
      ],
      "execution_count": null,
      "outputs": [
        {
          "output_type": "stream",
          "name": "stdout",
          "text": [
            "class              0\n",
            "age                0\n",
            "sex                0\n",
            "histologic-type    0\n",
            "degree-of-diffe    0\n",
            "bone               0\n",
            "bone-marrow        0\n",
            "lung               0\n",
            "pleura             0\n",
            "peritoneum         0\n",
            "liver              0\n",
            "brain              0\n",
            "skin               0\n",
            "neck               0\n",
            "supraclavicular    0\n",
            "axillar            0\n",
            "mediastinum        0\n",
            "abdominal          0\n",
            "dtype: int64\n"
          ]
        },
        {
          "output_type": "execute_result",
          "data": {
            "text/html": [
              "<div>\n",
              "<style scoped>\n",
              "    .dataframe tbody tr th:only-of-type {\n",
              "        vertical-align: middle;\n",
              "    }\n",
              "\n",
              "    .dataframe tbody tr th {\n",
              "        vertical-align: top;\n",
              "    }\n",
              "\n",
              "    .dataframe thead th {\n",
              "        text-align: right;\n",
              "    }\n",
              "</style>\n",
              "<table border=\"1\" class=\"dataframe\">\n",
              "  <thead>\n",
              "    <tr style=\"text-align: right;\">\n",
              "      <th></th>\n",
              "      <th>class</th>\n",
              "      <th>age</th>\n",
              "      <th>sex</th>\n",
              "      <th>histologic-type</th>\n",
              "      <th>degree-of-diffe</th>\n",
              "      <th>bone</th>\n",
              "      <th>bone-marrow</th>\n",
              "      <th>lung</th>\n",
              "      <th>pleura</th>\n",
              "      <th>peritoneum</th>\n",
              "      <th>liver</th>\n",
              "      <th>brain</th>\n",
              "      <th>skin</th>\n",
              "      <th>neck</th>\n",
              "      <th>supraclavicular</th>\n",
              "      <th>axillar</th>\n",
              "      <th>mediastinum</th>\n",
              "      <th>abdominal</th>\n",
              "    </tr>\n",
              "  </thead>\n",
              "  <tbody>\n",
              "    <tr>\n",
              "      <th>0</th>\n",
              "      <td>1</td>\n",
              "      <td>1</td>\n",
              "      <td>1</td>\n",
              "      <td>2</td>\n",
              "      <td>3</td>\n",
              "      <td>2</td>\n",
              "      <td>2</td>\n",
              "      <td>1</td>\n",
              "      <td>2</td>\n",
              "      <td>2</td>\n",
              "      <td>2</td>\n",
              "      <td>2</td>\n",
              "      <td>2</td>\n",
              "      <td>2</td>\n",
              "      <td>2</td>\n",
              "      <td>2</td>\n",
              "      <td>2</td>\n",
              "      <td>2</td>\n",
              "    </tr>\n",
              "    <tr>\n",
              "      <th>1</th>\n",
              "      <td>1</td>\n",
              "      <td>1</td>\n",
              "      <td>1</td>\n",
              "      <td>3</td>\n",
              "      <td>3</td>\n",
              "      <td>2</td>\n",
              "      <td>2</td>\n",
              "      <td>2</td>\n",
              "      <td>2</td>\n",
              "      <td>2</td>\n",
              "      <td>1</td>\n",
              "      <td>2</td>\n",
              "      <td>2</td>\n",
              "      <td>2</td>\n",
              "      <td>1</td>\n",
              "      <td>2</td>\n",
              "      <td>1</td>\n",
              "      <td>2</td>\n",
              "    </tr>\n",
              "    <tr>\n",
              "      <th>2</th>\n",
              "      <td>1</td>\n",
              "      <td>1</td>\n",
              "      <td>2</td>\n",
              "      <td>2</td>\n",
              "      <td>3</td>\n",
              "      <td>1</td>\n",
              "      <td>2</td>\n",
              "      <td>2</td>\n",
              "      <td>2</td>\n",
              "      <td>2</td>\n",
              "      <td>2</td>\n",
              "      <td>2</td>\n",
              "      <td>2</td>\n",
              "      <td>2</td>\n",
              "      <td>2</td>\n",
              "      <td>2</td>\n",
              "      <td>1</td>\n",
              "      <td>2</td>\n",
              "    </tr>\n",
              "    <tr>\n",
              "      <th>3</th>\n",
              "      <td>1</td>\n",
              "      <td>1</td>\n",
              "      <td>2</td>\n",
              "      <td>2</td>\n",
              "      <td>3</td>\n",
              "      <td>1</td>\n",
              "      <td>2</td>\n",
              "      <td>1</td>\n",
              "      <td>1</td>\n",
              "      <td>2</td>\n",
              "      <td>2</td>\n",
              "      <td>2</td>\n",
              "      <td>2</td>\n",
              "      <td>2</td>\n",
              "      <td>2</td>\n",
              "      <td>2</td>\n",
              "      <td>1</td>\n",
              "      <td>2</td>\n",
              "    </tr>\n",
              "    <tr>\n",
              "      <th>4</th>\n",
              "      <td>1</td>\n",
              "      <td>1</td>\n",
              "      <td>2</td>\n",
              "      <td>2</td>\n",
              "      <td>3</td>\n",
              "      <td>1</td>\n",
              "      <td>2</td>\n",
              "      <td>1</td>\n",
              "      <td>1</td>\n",
              "      <td>2</td>\n",
              "      <td>2</td>\n",
              "      <td>2</td>\n",
              "      <td>2</td>\n",
              "      <td>2</td>\n",
              "      <td>2</td>\n",
              "      <td>2</td>\n",
              "      <td>1</td>\n",
              "      <td>2</td>\n",
              "    </tr>\n",
              "    <tr>\n",
              "      <th>5</th>\n",
              "      <td>1</td>\n",
              "      <td>1</td>\n",
              "      <td>2</td>\n",
              "      <td>3</td>\n",
              "      <td>3</td>\n",
              "      <td>1</td>\n",
              "      <td>2</td>\n",
              "      <td>2</td>\n",
              "      <td>2</td>\n",
              "      <td>2</td>\n",
              "      <td>2</td>\n",
              "      <td>1</td>\n",
              "      <td>2</td>\n",
              "      <td>2</td>\n",
              "      <td>1</td>\n",
              "      <td>1</td>\n",
              "      <td>1</td>\n",
              "      <td>2</td>\n",
              "    </tr>\n",
              "    <tr>\n",
              "      <th>6</th>\n",
              "      <td>1</td>\n",
              "      <td>2</td>\n",
              "      <td>1</td>\n",
              "      <td>1</td>\n",
              "      <td>1</td>\n",
              "      <td>1</td>\n",
              "      <td>2</td>\n",
              "      <td>2</td>\n",
              "      <td>2</td>\n",
              "      <td>2</td>\n",
              "      <td>2</td>\n",
              "      <td>2</td>\n",
              "      <td>1</td>\n",
              "      <td>1</td>\n",
              "      <td>1</td>\n",
              "      <td>2</td>\n",
              "      <td>2</td>\n",
              "      <td>2</td>\n",
              "    </tr>\n",
              "    <tr>\n",
              "      <th>7</th>\n",
              "      <td>1</td>\n",
              "      <td>2</td>\n",
              "      <td>1</td>\n",
              "      <td>1</td>\n",
              "      <td>1</td>\n",
              "      <td>1</td>\n",
              "      <td>2</td>\n",
              "      <td>2</td>\n",
              "      <td>2</td>\n",
              "      <td>2</td>\n",
              "      <td>2</td>\n",
              "      <td>2</td>\n",
              "      <td>2</td>\n",
              "      <td>2</td>\n",
              "      <td>2</td>\n",
              "      <td>2</td>\n",
              "      <td>2</td>\n",
              "      <td>2</td>\n",
              "    </tr>\n",
              "    <tr>\n",
              "      <th>8</th>\n",
              "      <td>1</td>\n",
              "      <td>2</td>\n",
              "      <td>1</td>\n",
              "      <td>1</td>\n",
              "      <td>1</td>\n",
              "      <td>2</td>\n",
              "      <td>2</td>\n",
              "      <td>2</td>\n",
              "      <td>2</td>\n",
              "      <td>2</td>\n",
              "      <td>2</td>\n",
              "      <td>2</td>\n",
              "      <td>2</td>\n",
              "      <td>1</td>\n",
              "      <td>2</td>\n",
              "      <td>2</td>\n",
              "      <td>2</td>\n",
              "      <td>2</td>\n",
              "    </tr>\n",
              "    <tr>\n",
              "      <th>9</th>\n",
              "      <td>1</td>\n",
              "      <td>2</td>\n",
              "      <td>1</td>\n",
              "      <td>1</td>\n",
              "      <td>2</td>\n",
              "      <td>1</td>\n",
              "      <td>2</td>\n",
              "      <td>2</td>\n",
              "      <td>2</td>\n",
              "      <td>2</td>\n",
              "      <td>2</td>\n",
              "      <td>2</td>\n",
              "      <td>1</td>\n",
              "      <td>1</td>\n",
              "      <td>1</td>\n",
              "      <td>2</td>\n",
              "      <td>2</td>\n",
              "      <td>2</td>\n",
              "    </tr>\n",
              "    <tr>\n",
              "      <th>10</th>\n",
              "      <td>1</td>\n",
              "      <td>2</td>\n",
              "      <td>1</td>\n",
              "      <td>1</td>\n",
              "      <td>3</td>\n",
              "      <td>1</td>\n",
              "      <td>2</td>\n",
              "      <td>2</td>\n",
              "      <td>1</td>\n",
              "      <td>2</td>\n",
              "      <td>2</td>\n",
              "      <td>2</td>\n",
              "      <td>2</td>\n",
              "      <td>2</td>\n",
              "      <td>1</td>\n",
              "      <td>2</td>\n",
              "      <td>1</td>\n",
              "      <td>2</td>\n",
              "    </tr>\n",
              "    <tr>\n",
              "      <th>11</th>\n",
              "      <td>1</td>\n",
              "      <td>2</td>\n",
              "      <td>1</td>\n",
              "      <td>1</td>\n",
              "      <td>3</td>\n",
              "      <td>1</td>\n",
              "      <td>2</td>\n",
              "      <td>2</td>\n",
              "      <td>2</td>\n",
              "      <td>2</td>\n",
              "      <td>2</td>\n",
              "      <td>2</td>\n",
              "      <td>1</td>\n",
              "      <td>2</td>\n",
              "      <td>2</td>\n",
              "      <td>1</td>\n",
              "      <td>2</td>\n",
              "      <td>2</td>\n",
              "    </tr>\n",
              "    <tr>\n",
              "      <th>12</th>\n",
              "      <td>1</td>\n",
              "      <td>2</td>\n",
              "      <td>1</td>\n",
              "      <td>1</td>\n",
              "      <td>3</td>\n",
              "      <td>1</td>\n",
              "      <td>2</td>\n",
              "      <td>2</td>\n",
              "      <td>2</td>\n",
              "      <td>2</td>\n",
              "      <td>2</td>\n",
              "      <td>2</td>\n",
              "      <td>2</td>\n",
              "      <td>2</td>\n",
              "      <td>2</td>\n",
              "      <td>2</td>\n",
              "      <td>2</td>\n",
              "      <td>2</td>\n",
              "    </tr>\n",
              "    <tr>\n",
              "      <th>13</th>\n",
              "      <td>1</td>\n",
              "      <td>2</td>\n",
              "      <td>1</td>\n",
              "      <td>1</td>\n",
              "      <td>3</td>\n",
              "      <td>1</td>\n",
              "      <td>2</td>\n",
              "      <td>2</td>\n",
              "      <td>2</td>\n",
              "      <td>2</td>\n",
              "      <td>2</td>\n",
              "      <td>2</td>\n",
              "      <td>2</td>\n",
              "      <td>2</td>\n",
              "      <td>2</td>\n",
              "      <td>2</td>\n",
              "      <td>2</td>\n",
              "      <td>2</td>\n",
              "    </tr>\n",
              "    <tr>\n",
              "      <th>14</th>\n",
              "      <td>1</td>\n",
              "      <td>2</td>\n",
              "      <td>1</td>\n",
              "      <td>1</td>\n",
              "      <td>3</td>\n",
              "      <td>2</td>\n",
              "      <td>2</td>\n",
              "      <td>2</td>\n",
              "      <td>2</td>\n",
              "      <td>2</td>\n",
              "      <td>1</td>\n",
              "      <td>2</td>\n",
              "      <td>2</td>\n",
              "      <td>2</td>\n",
              "      <td>2</td>\n",
              "      <td>2</td>\n",
              "      <td>1</td>\n",
              "      <td>2</td>\n",
              "    </tr>\n",
              "    <tr>\n",
              "      <th>15</th>\n",
              "      <td>1</td>\n",
              "      <td>2</td>\n",
              "      <td>1</td>\n",
              "      <td>1</td>\n",
              "      <td>3</td>\n",
              "      <td>2</td>\n",
              "      <td>2</td>\n",
              "      <td>2</td>\n",
              "      <td>1</td>\n",
              "      <td>2</td>\n",
              "      <td>1</td>\n",
              "      <td>2</td>\n",
              "      <td>2</td>\n",
              "      <td>2</td>\n",
              "      <td>2</td>\n",
              "      <td>2</td>\n",
              "      <td>2</td>\n",
              "      <td>2</td>\n",
              "    </tr>\n",
              "    <tr>\n",
              "      <th>16</th>\n",
              "      <td>1</td>\n",
              "      <td>2</td>\n",
              "      <td>1</td>\n",
              "      <td>1</td>\n",
              "      <td>3</td>\n",
              "      <td>2</td>\n",
              "      <td>2</td>\n",
              "      <td>2</td>\n",
              "      <td>2</td>\n",
              "      <td>2</td>\n",
              "      <td>2</td>\n",
              "      <td>2</td>\n",
              "      <td>2</td>\n",
              "      <td>2</td>\n",
              "      <td>1</td>\n",
              "      <td>2</td>\n",
              "      <td>1</td>\n",
              "      <td>2</td>\n",
              "    </tr>\n",
              "    <tr>\n",
              "      <th>17</th>\n",
              "      <td>1</td>\n",
              "      <td>2</td>\n",
              "      <td>1</td>\n",
              "      <td>2</td>\n",
              "      <td>2</td>\n",
              "      <td>2</td>\n",
              "      <td>2</td>\n",
              "      <td>1</td>\n",
              "      <td>2</td>\n",
              "      <td>2</td>\n",
              "      <td>2</td>\n",
              "      <td>2</td>\n",
              "      <td>2</td>\n",
              "      <td>1</td>\n",
              "      <td>1</td>\n",
              "      <td>2</td>\n",
              "      <td>1</td>\n",
              "      <td>2</td>\n",
              "    </tr>\n",
              "    <tr>\n",
              "      <th>18</th>\n",
              "      <td>1</td>\n",
              "      <td>2</td>\n",
              "      <td>1</td>\n",
              "      <td>2</td>\n",
              "      <td>3</td>\n",
              "      <td>1</td>\n",
              "      <td>2</td>\n",
              "      <td>2</td>\n",
              "      <td>2</td>\n",
              "      <td>2</td>\n",
              "      <td>2</td>\n",
              "      <td>2</td>\n",
              "      <td>1</td>\n",
              "      <td>2</td>\n",
              "      <td>2</td>\n",
              "      <td>2</td>\n",
              "      <td>2</td>\n",
              "      <td>2</td>\n",
              "    </tr>\n",
              "    <tr>\n",
              "      <th>19</th>\n",
              "      <td>1</td>\n",
              "      <td>2</td>\n",
              "      <td>1</td>\n",
              "      <td>2</td>\n",
              "      <td>3</td>\n",
              "      <td>2</td>\n",
              "      <td>2</td>\n",
              "      <td>2</td>\n",
              "      <td>2</td>\n",
              "      <td>2</td>\n",
              "      <td>2</td>\n",
              "      <td>2</td>\n",
              "      <td>2</td>\n",
              "      <td>2</td>\n",
              "      <td>1</td>\n",
              "      <td>2</td>\n",
              "      <td>1</td>\n",
              "      <td>2</td>\n",
              "    </tr>\n",
              "  </tbody>\n",
              "</table>\n",
              "</div>"
            ],
            "text/plain": [
              "   class age sex histologic-type  ... supraclavicular axillar mediastinum abdominal\n",
              "0      1   1   1               2  ...               2       2           2         2\n",
              "1      1   1   1               3  ...               1       2           1         2\n",
              "2      1   1   2               2  ...               2       2           1         2\n",
              "3      1   1   2               2  ...               2       2           1         2\n",
              "4      1   1   2               2  ...               2       2           1         2\n",
              "5      1   1   2               3  ...               1       1           1         2\n",
              "6      1   2   1               1  ...               1       2           2         2\n",
              "7      1   2   1               1  ...               2       2           2         2\n",
              "8      1   2   1               1  ...               2       2           2         2\n",
              "9      1   2   1               1  ...               1       2           2         2\n",
              "10     1   2   1               1  ...               1       2           1         2\n",
              "11     1   2   1               1  ...               2       1           2         2\n",
              "12     1   2   1               1  ...               2       2           2         2\n",
              "13     1   2   1               1  ...               2       2           2         2\n",
              "14     1   2   1               1  ...               2       2           1         2\n",
              "15     1   2   1               1  ...               2       2           2         2\n",
              "16     1   2   1               1  ...               1       2           1         2\n",
              "17     1   2   1               2  ...               1       2           1         2\n",
              "18     1   2   1               2  ...               2       2           2         2\n",
              "19     1   2   1               2  ...               1       2           1         2\n",
              "\n",
              "[20 rows x 18 columns]"
            ]
          },
          "metadata": {},
          "execution_count": 9
        }
      ]
    },
    {
      "cell_type": "markdown",
      "metadata": {
        "id": "d_UmPfS9B35N"
      },
      "source": [
        "Transformación de datos."
      ]
    },
    {
      "cell_type": "code",
      "metadata": {
        "colab": {
          "base_uri": "https://localhost:8080/",
          "height": 731
        },
        "id": "nW8j304g4Tj6",
        "outputId": "189071c5-40c8-4168-c17e-5dfe354d0154"
      },
      "source": [
        "#Dado que no tener los datos en una base 0/1/2... puede afectar a los valores de ciertas correlaciones, \n",
        "#(método de Kendall, que usaremos más adelante) pasamos a transformar los datos para obtener el resultado más preciso posible.\n",
        "\n",
        "clase=completed_dataset[\"class\"]\n",
        "input = completed_dataset.drop(columns='class')\n",
        "columna_sin_clase = ['age', 'sex', 'histologic-type', 'degree-of-diffe', 'bone', 'bone-marrow', 'lung', 'pleura', 'peritoneum', 'liver', 'brain', 'skin', 'neck', 'supraclavicular', 'axillar', 'mediastinum', 'abdominal']\n",
        "for col in columna_sin_clase:\n",
        "    input[col] = input[col].astype('int64',copy=False)\n",
        "input = input.replace(to_replace = 1, value = 0, regex = True)\n",
        "input = input.replace(to_replace = 2, value = 1, regex = True)\n",
        "input = input.replace(to_replace = 3, value = 2, regex = True)\n",
        "\n",
        "completed_dataset=input\n",
        "completed_dataset[\"class\"]=clase\n",
        "\n",
        "input.head(20)\n",
        "\n",
        "\n"
      ],
      "execution_count": null,
      "outputs": [
        {
          "output_type": "execute_result",
          "data": {
            "text/html": [
              "<div>\n",
              "<style scoped>\n",
              "    .dataframe tbody tr th:only-of-type {\n",
              "        vertical-align: middle;\n",
              "    }\n",
              "\n",
              "    .dataframe tbody tr th {\n",
              "        vertical-align: top;\n",
              "    }\n",
              "\n",
              "    .dataframe thead th {\n",
              "        text-align: right;\n",
              "    }\n",
              "</style>\n",
              "<table border=\"1\" class=\"dataframe\">\n",
              "  <thead>\n",
              "    <tr style=\"text-align: right;\">\n",
              "      <th></th>\n",
              "      <th>age</th>\n",
              "      <th>sex</th>\n",
              "      <th>histologic-type</th>\n",
              "      <th>degree-of-diffe</th>\n",
              "      <th>bone</th>\n",
              "      <th>bone-marrow</th>\n",
              "      <th>lung</th>\n",
              "      <th>pleura</th>\n",
              "      <th>peritoneum</th>\n",
              "      <th>liver</th>\n",
              "      <th>brain</th>\n",
              "      <th>skin</th>\n",
              "      <th>neck</th>\n",
              "      <th>supraclavicular</th>\n",
              "      <th>axillar</th>\n",
              "      <th>mediastinum</th>\n",
              "      <th>abdominal</th>\n",
              "      <th>class</th>\n",
              "    </tr>\n",
              "  </thead>\n",
              "  <tbody>\n",
              "    <tr>\n",
              "      <th>0</th>\n",
              "      <td>0</td>\n",
              "      <td>0</td>\n",
              "      <td>1</td>\n",
              "      <td>2</td>\n",
              "      <td>1</td>\n",
              "      <td>1</td>\n",
              "      <td>0</td>\n",
              "      <td>1</td>\n",
              "      <td>1</td>\n",
              "      <td>1</td>\n",
              "      <td>1</td>\n",
              "      <td>1</td>\n",
              "      <td>1</td>\n",
              "      <td>1</td>\n",
              "      <td>1</td>\n",
              "      <td>1</td>\n",
              "      <td>1</td>\n",
              "      <td>1</td>\n",
              "    </tr>\n",
              "    <tr>\n",
              "      <th>1</th>\n",
              "      <td>0</td>\n",
              "      <td>0</td>\n",
              "      <td>2</td>\n",
              "      <td>2</td>\n",
              "      <td>1</td>\n",
              "      <td>1</td>\n",
              "      <td>1</td>\n",
              "      <td>1</td>\n",
              "      <td>1</td>\n",
              "      <td>0</td>\n",
              "      <td>1</td>\n",
              "      <td>1</td>\n",
              "      <td>1</td>\n",
              "      <td>0</td>\n",
              "      <td>1</td>\n",
              "      <td>0</td>\n",
              "      <td>1</td>\n",
              "      <td>1</td>\n",
              "    </tr>\n",
              "    <tr>\n",
              "      <th>2</th>\n",
              "      <td>0</td>\n",
              "      <td>1</td>\n",
              "      <td>1</td>\n",
              "      <td>2</td>\n",
              "      <td>0</td>\n",
              "      <td>1</td>\n",
              "      <td>1</td>\n",
              "      <td>1</td>\n",
              "      <td>1</td>\n",
              "      <td>1</td>\n",
              "      <td>1</td>\n",
              "      <td>1</td>\n",
              "      <td>1</td>\n",
              "      <td>1</td>\n",
              "      <td>1</td>\n",
              "      <td>0</td>\n",
              "      <td>1</td>\n",
              "      <td>1</td>\n",
              "    </tr>\n",
              "    <tr>\n",
              "      <th>3</th>\n",
              "      <td>0</td>\n",
              "      <td>1</td>\n",
              "      <td>1</td>\n",
              "      <td>2</td>\n",
              "      <td>0</td>\n",
              "      <td>1</td>\n",
              "      <td>0</td>\n",
              "      <td>0</td>\n",
              "      <td>1</td>\n",
              "      <td>1</td>\n",
              "      <td>1</td>\n",
              "      <td>1</td>\n",
              "      <td>1</td>\n",
              "      <td>1</td>\n",
              "      <td>1</td>\n",
              "      <td>0</td>\n",
              "      <td>1</td>\n",
              "      <td>1</td>\n",
              "    </tr>\n",
              "    <tr>\n",
              "      <th>4</th>\n",
              "      <td>0</td>\n",
              "      <td>1</td>\n",
              "      <td>1</td>\n",
              "      <td>2</td>\n",
              "      <td>0</td>\n",
              "      <td>1</td>\n",
              "      <td>0</td>\n",
              "      <td>0</td>\n",
              "      <td>1</td>\n",
              "      <td>1</td>\n",
              "      <td>1</td>\n",
              "      <td>1</td>\n",
              "      <td>1</td>\n",
              "      <td>1</td>\n",
              "      <td>1</td>\n",
              "      <td>0</td>\n",
              "      <td>1</td>\n",
              "      <td>1</td>\n",
              "    </tr>\n",
              "    <tr>\n",
              "      <th>5</th>\n",
              "      <td>0</td>\n",
              "      <td>1</td>\n",
              "      <td>2</td>\n",
              "      <td>2</td>\n",
              "      <td>0</td>\n",
              "      <td>1</td>\n",
              "      <td>1</td>\n",
              "      <td>1</td>\n",
              "      <td>1</td>\n",
              "      <td>1</td>\n",
              "      <td>0</td>\n",
              "      <td>1</td>\n",
              "      <td>1</td>\n",
              "      <td>0</td>\n",
              "      <td>0</td>\n",
              "      <td>0</td>\n",
              "      <td>1</td>\n",
              "      <td>1</td>\n",
              "    </tr>\n",
              "    <tr>\n",
              "      <th>6</th>\n",
              "      <td>1</td>\n",
              "      <td>0</td>\n",
              "      <td>0</td>\n",
              "      <td>0</td>\n",
              "      <td>0</td>\n",
              "      <td>1</td>\n",
              "      <td>1</td>\n",
              "      <td>1</td>\n",
              "      <td>1</td>\n",
              "      <td>1</td>\n",
              "      <td>1</td>\n",
              "      <td>0</td>\n",
              "      <td>0</td>\n",
              "      <td>0</td>\n",
              "      <td>1</td>\n",
              "      <td>1</td>\n",
              "      <td>1</td>\n",
              "      <td>1</td>\n",
              "    </tr>\n",
              "    <tr>\n",
              "      <th>7</th>\n",
              "      <td>1</td>\n",
              "      <td>0</td>\n",
              "      <td>0</td>\n",
              "      <td>0</td>\n",
              "      <td>0</td>\n",
              "      <td>1</td>\n",
              "      <td>1</td>\n",
              "      <td>1</td>\n",
              "      <td>1</td>\n",
              "      <td>1</td>\n",
              "      <td>1</td>\n",
              "      <td>1</td>\n",
              "      <td>1</td>\n",
              "      <td>1</td>\n",
              "      <td>1</td>\n",
              "      <td>1</td>\n",
              "      <td>1</td>\n",
              "      <td>1</td>\n",
              "    </tr>\n",
              "    <tr>\n",
              "      <th>8</th>\n",
              "      <td>1</td>\n",
              "      <td>0</td>\n",
              "      <td>0</td>\n",
              "      <td>0</td>\n",
              "      <td>1</td>\n",
              "      <td>1</td>\n",
              "      <td>1</td>\n",
              "      <td>1</td>\n",
              "      <td>1</td>\n",
              "      <td>1</td>\n",
              "      <td>1</td>\n",
              "      <td>1</td>\n",
              "      <td>0</td>\n",
              "      <td>1</td>\n",
              "      <td>1</td>\n",
              "      <td>1</td>\n",
              "      <td>1</td>\n",
              "      <td>1</td>\n",
              "    </tr>\n",
              "    <tr>\n",
              "      <th>9</th>\n",
              "      <td>1</td>\n",
              "      <td>0</td>\n",
              "      <td>0</td>\n",
              "      <td>1</td>\n",
              "      <td>0</td>\n",
              "      <td>1</td>\n",
              "      <td>1</td>\n",
              "      <td>1</td>\n",
              "      <td>1</td>\n",
              "      <td>1</td>\n",
              "      <td>1</td>\n",
              "      <td>0</td>\n",
              "      <td>0</td>\n",
              "      <td>0</td>\n",
              "      <td>1</td>\n",
              "      <td>1</td>\n",
              "      <td>1</td>\n",
              "      <td>1</td>\n",
              "    </tr>\n",
              "    <tr>\n",
              "      <th>10</th>\n",
              "      <td>1</td>\n",
              "      <td>0</td>\n",
              "      <td>0</td>\n",
              "      <td>2</td>\n",
              "      <td>0</td>\n",
              "      <td>1</td>\n",
              "      <td>1</td>\n",
              "      <td>0</td>\n",
              "      <td>1</td>\n",
              "      <td>1</td>\n",
              "      <td>1</td>\n",
              "      <td>1</td>\n",
              "      <td>1</td>\n",
              "      <td>0</td>\n",
              "      <td>1</td>\n",
              "      <td>0</td>\n",
              "      <td>1</td>\n",
              "      <td>1</td>\n",
              "    </tr>\n",
              "    <tr>\n",
              "      <th>11</th>\n",
              "      <td>1</td>\n",
              "      <td>0</td>\n",
              "      <td>0</td>\n",
              "      <td>2</td>\n",
              "      <td>0</td>\n",
              "      <td>1</td>\n",
              "      <td>1</td>\n",
              "      <td>1</td>\n",
              "      <td>1</td>\n",
              "      <td>1</td>\n",
              "      <td>1</td>\n",
              "      <td>0</td>\n",
              "      <td>1</td>\n",
              "      <td>1</td>\n",
              "      <td>0</td>\n",
              "      <td>1</td>\n",
              "      <td>1</td>\n",
              "      <td>1</td>\n",
              "    </tr>\n",
              "    <tr>\n",
              "      <th>12</th>\n",
              "      <td>1</td>\n",
              "      <td>0</td>\n",
              "      <td>0</td>\n",
              "      <td>2</td>\n",
              "      <td>0</td>\n",
              "      <td>1</td>\n",
              "      <td>1</td>\n",
              "      <td>1</td>\n",
              "      <td>1</td>\n",
              "      <td>1</td>\n",
              "      <td>1</td>\n",
              "      <td>1</td>\n",
              "      <td>1</td>\n",
              "      <td>1</td>\n",
              "      <td>1</td>\n",
              "      <td>1</td>\n",
              "      <td>1</td>\n",
              "      <td>1</td>\n",
              "    </tr>\n",
              "    <tr>\n",
              "      <th>13</th>\n",
              "      <td>1</td>\n",
              "      <td>0</td>\n",
              "      <td>0</td>\n",
              "      <td>2</td>\n",
              "      <td>0</td>\n",
              "      <td>1</td>\n",
              "      <td>1</td>\n",
              "      <td>1</td>\n",
              "      <td>1</td>\n",
              "      <td>1</td>\n",
              "      <td>1</td>\n",
              "      <td>1</td>\n",
              "      <td>1</td>\n",
              "      <td>1</td>\n",
              "      <td>1</td>\n",
              "      <td>1</td>\n",
              "      <td>1</td>\n",
              "      <td>1</td>\n",
              "    </tr>\n",
              "    <tr>\n",
              "      <th>14</th>\n",
              "      <td>1</td>\n",
              "      <td>0</td>\n",
              "      <td>0</td>\n",
              "      <td>2</td>\n",
              "      <td>1</td>\n",
              "      <td>1</td>\n",
              "      <td>1</td>\n",
              "      <td>1</td>\n",
              "      <td>1</td>\n",
              "      <td>0</td>\n",
              "      <td>1</td>\n",
              "      <td>1</td>\n",
              "      <td>1</td>\n",
              "      <td>1</td>\n",
              "      <td>1</td>\n",
              "      <td>0</td>\n",
              "      <td>1</td>\n",
              "      <td>1</td>\n",
              "    </tr>\n",
              "    <tr>\n",
              "      <th>15</th>\n",
              "      <td>1</td>\n",
              "      <td>0</td>\n",
              "      <td>0</td>\n",
              "      <td>2</td>\n",
              "      <td>1</td>\n",
              "      <td>1</td>\n",
              "      <td>1</td>\n",
              "      <td>0</td>\n",
              "      <td>1</td>\n",
              "      <td>0</td>\n",
              "      <td>1</td>\n",
              "      <td>1</td>\n",
              "      <td>1</td>\n",
              "      <td>1</td>\n",
              "      <td>1</td>\n",
              "      <td>1</td>\n",
              "      <td>1</td>\n",
              "      <td>1</td>\n",
              "    </tr>\n",
              "    <tr>\n",
              "      <th>16</th>\n",
              "      <td>1</td>\n",
              "      <td>0</td>\n",
              "      <td>0</td>\n",
              "      <td>2</td>\n",
              "      <td>1</td>\n",
              "      <td>1</td>\n",
              "      <td>1</td>\n",
              "      <td>1</td>\n",
              "      <td>1</td>\n",
              "      <td>1</td>\n",
              "      <td>1</td>\n",
              "      <td>1</td>\n",
              "      <td>1</td>\n",
              "      <td>0</td>\n",
              "      <td>1</td>\n",
              "      <td>0</td>\n",
              "      <td>1</td>\n",
              "      <td>1</td>\n",
              "    </tr>\n",
              "    <tr>\n",
              "      <th>17</th>\n",
              "      <td>1</td>\n",
              "      <td>0</td>\n",
              "      <td>1</td>\n",
              "      <td>1</td>\n",
              "      <td>1</td>\n",
              "      <td>1</td>\n",
              "      <td>0</td>\n",
              "      <td>1</td>\n",
              "      <td>1</td>\n",
              "      <td>1</td>\n",
              "      <td>1</td>\n",
              "      <td>1</td>\n",
              "      <td>0</td>\n",
              "      <td>0</td>\n",
              "      <td>1</td>\n",
              "      <td>0</td>\n",
              "      <td>1</td>\n",
              "      <td>1</td>\n",
              "    </tr>\n",
              "    <tr>\n",
              "      <th>18</th>\n",
              "      <td>1</td>\n",
              "      <td>0</td>\n",
              "      <td>1</td>\n",
              "      <td>2</td>\n",
              "      <td>0</td>\n",
              "      <td>1</td>\n",
              "      <td>1</td>\n",
              "      <td>1</td>\n",
              "      <td>1</td>\n",
              "      <td>1</td>\n",
              "      <td>1</td>\n",
              "      <td>0</td>\n",
              "      <td>1</td>\n",
              "      <td>1</td>\n",
              "      <td>1</td>\n",
              "      <td>1</td>\n",
              "      <td>1</td>\n",
              "      <td>1</td>\n",
              "    </tr>\n",
              "    <tr>\n",
              "      <th>19</th>\n",
              "      <td>1</td>\n",
              "      <td>0</td>\n",
              "      <td>1</td>\n",
              "      <td>2</td>\n",
              "      <td>1</td>\n",
              "      <td>1</td>\n",
              "      <td>1</td>\n",
              "      <td>1</td>\n",
              "      <td>1</td>\n",
              "      <td>1</td>\n",
              "      <td>1</td>\n",
              "      <td>1</td>\n",
              "      <td>1</td>\n",
              "      <td>0</td>\n",
              "      <td>1</td>\n",
              "      <td>0</td>\n",
              "      <td>1</td>\n",
              "      <td>1</td>\n",
              "    </tr>\n",
              "  </tbody>\n",
              "</table>\n",
              "</div>"
            ],
            "text/plain": [
              "    age  sex  histologic-type  ...  mediastinum  abdominal  class\n",
              "0     0    0                1  ...            1          1      1\n",
              "1     0    0                2  ...            0          1      1\n",
              "2     0    1                1  ...            0          1      1\n",
              "3     0    1                1  ...            0          1      1\n",
              "4     0    1                1  ...            0          1      1\n",
              "5     0    1                2  ...            0          1      1\n",
              "6     1    0                0  ...            1          1      1\n",
              "7     1    0                0  ...            1          1      1\n",
              "8     1    0                0  ...            1          1      1\n",
              "9     1    0                0  ...            1          1      1\n",
              "10    1    0                0  ...            0          1      1\n",
              "11    1    0                0  ...            1          1      1\n",
              "12    1    0                0  ...            1          1      1\n",
              "13    1    0                0  ...            1          1      1\n",
              "14    1    0                0  ...            0          1      1\n",
              "15    1    0                0  ...            1          1      1\n",
              "16    1    0                0  ...            0          1      1\n",
              "17    1    0                1  ...            0          1      1\n",
              "18    1    0                1  ...            1          1      1\n",
              "19    1    0                1  ...            0          1      1\n",
              "\n",
              "[20 rows x 18 columns]"
            ]
          },
          "metadata": {},
          "execution_count": 10
        }
      ]
    },
    {
      "cell_type": "code",
      "metadata": {
        "colab": {
          "base_uri": "https://localhost:8080/",
          "height": 1000
        },
        "id": "WdA7dBk5Ees1",
        "outputId": "fac53487-26d1-4521-b33b-bd8d80c6abd2"
      },
      "source": [
        "completed_dataset.hist(figsize=(12, 12), bins=3, xlabelsize=8, ylabelsize=8) \n",
        "#Podemos ver que los atributos están desbalanceados, es decir, a excepción del sexo hay muchos atributos con más valores de una categoría que de otra.\n",
        "#Esto supone una limitación para nuestro estudio y nuestro clasificador, que solventaremos en futuras versiones mediante un oversampling/undersampling\n",
        "#(es decir, usando pacientes artificiales)."
      ],
      "execution_count": null,
      "outputs": [
        {
          "output_type": "execute_result",
          "data": {
            "text/plain": [
              "array([[<matplotlib.axes._subplots.AxesSubplot object at 0x7f73d173e610>,\n",
              "        <matplotlib.axes._subplots.AxesSubplot object at 0x7f73d170dc90>,\n",
              "        <matplotlib.axes._subplots.AxesSubplot object at 0x7f73d16cc2d0>,\n",
              "        <matplotlib.axes._subplots.AxesSubplot object at 0x7f73d167f8d0>],\n",
              "       [<matplotlib.axes._subplots.AxesSubplot object at 0x7f73d1632e50>,\n",
              "        <matplotlib.axes._subplots.AxesSubplot object at 0x7f73d15ee490>,\n",
              "        <matplotlib.axes._subplots.AxesSubplot object at 0x7f73d1620b10>,\n",
              "        <matplotlib.axes._subplots.AxesSubplot object at 0x7f73d15df090>],\n",
              "       [<matplotlib.axes._subplots.AxesSubplot object at 0x7f73d15df0d0>,\n",
              "        <matplotlib.axes._subplots.AxesSubplot object at 0x7f73d15907d0>,\n",
              "        <matplotlib.axes._subplots.AxesSubplot object at 0x7f73d1506310>,\n",
              "        <matplotlib.axes._subplots.AxesSubplot object at 0x7f73d14bb910>],\n",
              "       [<matplotlib.axes._subplots.AxesSubplot object at 0x7f73d1470f10>,\n",
              "        <matplotlib.axes._subplots.AxesSubplot object at 0x7f73d1433550>,\n",
              "        <matplotlib.axes._subplots.AxesSubplot object at 0x7f73d13eab50>,\n",
              "        <matplotlib.axes._subplots.AxesSubplot object at 0x7f73d13ab190>],\n",
              "       [<matplotlib.axes._subplots.AxesSubplot object at 0x7f73d13df790>,\n",
              "        <matplotlib.axes._subplots.AxesSubplot object at 0x7f73d1397d90>,\n",
              "        <matplotlib.axes._subplots.AxesSubplot object at 0x7f73d135a3d0>,\n",
              "        <matplotlib.axes._subplots.AxesSubplot object at 0x7f73d13109d0>]],\n",
              "      dtype=object)"
            ]
          },
          "metadata": {},
          "execution_count": 11
        },
        {
          "output_type": "display_data",
          "data": {
            "image/png": "[encoded data removed]",
            "text/plain": [
              "<Figure size 864x864 with 20 Axes>"
            ]
          },
          "metadata": {
            "needs_background": "light"
          }
        }
      ]
    },
    {
      "cell_type": "code",
      "metadata": {
        "colab": {
          "base_uri": "https://localhost:8080/",
          "height": 390
        },
        "id": "bOEKSoI4Ej1W",
        "outputId": "56bd28f4-e86f-447c-d2ef-abfb8628661f"
      },
      "source": [
        "completed_dataset[\"class\"].hist(figsize=(3, 6), bins=13, xlabelsize=8, ylabelsize=8)\n",
        "#Podemos ver además que las clases están desbalanceadas. Con el método que especificamos anteriormente, trataremos de solventar esta incidencia en futuras versiones.\n",
        "#De momento, asumiremos el coste de este desbalanceo en la precisión y r2 score de nuestro algoritmo."
      ],
      "execution_count": null,
      "outputs": [
        {
          "output_type": "execute_result",
          "data": {
            "text/plain": [
              "<matplotlib.axes._subplots.AxesSubplot at 0x7f73d1027e50>"
            ]
          },
          "metadata": {},
          "execution_count": 12
        },
        {
          "output_type": "display_data",
          "data": {
            "image/png": "[encoded data removed]",
            "text/plain": [
              "<Figure size 216x432 with 1 Axes>"
            ]
          },
          "metadata": {
            "needs_background": "light"
          }
        }
      ]
    },
    {
      "cell_type": "markdown",
      "metadata": {
        "id": "tM4OkvAJCFfM"
      },
      "source": [
        "Fase de reducción de datos"
      ]
    },
    {
      "cell_type": "code",
      "metadata": {
        "colab": {
          "base_uri": "https://localhost:8080/"
        },
        "id": "IjMcsayOObTn",
        "outputId": "14842b8b-cf37-4765-8000-4718fabe363d"
      },
      "source": [
        "##FASE DE REDUCCIÓN DE DATOS\n",
        "\n",
        "import scipy.stats as stats\n",
        "#Calculamos el estadístico Phi de Cramer, que es una variante del t de Student\n",
        "#para variables discretas ordinales.\n",
        "X2 = stats.chi2_contingency(input, correction=False)[0]\n",
        "n = np.sum(input)\n",
        "minDim = min(input.shape)-1\n",
        "\n",
        "\n",
        "V = np.sqrt((X2/n) / minDim)\n",
        "\n",
        "print(V)\n",
        "\n",
        "#Aquí calculamos una correlación. Este estimador tiene bastante sesgo, por eso\n",
        "#buscaremos complementar estos datos con los propios del método de Kendall.\n"
      ],
      "execution_count": null,
      "outputs": [
        {
          "output_type": "stream",
          "name": "stdout",
          "text": [
            "age                0.621783\n",
            "sex                0.961219\n",
            "histologic-type    0.740799\n",
            "degree-of-diffe    0.652594\n",
            "bone               0.817007\n",
            "bone-marrow        0.701843\n",
            "lung               0.787058\n",
            "pleura             0.787058\n",
            "peritoneum         0.818679\n",
            "liver              0.843228\n",
            "brain              0.717126\n",
            "skin               0.717126\n",
            "neck               0.744557\n",
            "supraclavicular    0.766984\n",
            "axillar            0.731052\n",
            "mediastinum        0.813692\n",
            "abdominal          0.854446\n",
            "dtype: float64\n"
          ]
        }
      ]
    },
    {
      "cell_type": "code",
      "metadata": {
        "colab": {
          "base_uri": "https://localhost:8080/",
          "height": 591
        },
        "id": "pqQ0LceJxBCs",
        "outputId": "0d80d757-67f3-4928-9d50-2c70ee56a91a"
      },
      "source": [
        "plt.figure(figsize=(14,12))\n",
        "sns.heatmap(input.corr(method = 'kendall'),linewidths=.1,cmap=\"YlGnBu\", annot=True)\n",
        "plt.yticks(rotation=0);\n",
        "\n",
        "#Aquí usamos el método de Kendall porque es un método que calcula correlación\n",
        "#entre variables ordinales discretas. \n",
        "#Como podemos ver en el gráfico, ninguna variable muestra una correlación elevada como para considerar su eliminación\n",
        "#Por tanto, lo dejamos tal y como está.\n",
        "#Kendall es más robusto que la phi de Cramer porque las variables categóricas rara vez siguen una distribución normal\n"
      ],
      "execution_count": null,
      "outputs": [
        {
          "output_type": "display_data",
          "data": {
            "image/png": "[encoded data removed]",
            "text/plain": [
              "<Figure size 1008x864 with 2 Axes>"
            ]
          },
          "metadata": {
            "needs_background": "light"
          }
        }
      ]
    },
    {
      "cell_type": "code",
      "metadata": {
        "id": "7glyB4adJSuQ"
      },
      "source": [
        "#Para finalizar, observamos que en determinadas clases el número de \n",
        "#características es muy bajo.\n",
        "#Para ello, procedemos a eliminar aquellas características con un valor\n",
        "#de 0/1 y a agrupar aquellas (según criterios basados en la literatura\n",
        "#científica) con valores inferiores a 6/7.\n",
        "\n",
        "#Procedemos a eliminar la característica 'cáncer de ano'. 9\n",
        "#Juntamos corpus uteri, cervix uteri y ovary [11] 19, 20, 18\n",
        "#creando la clase 'cáncer de útero u ovario'.\n",
        "#Eliminamos la característica 'cáncer de vagina' y 'cáncer de testículos'\n",
        "#Juntamos 'cáncer de colon' y 'cáncer de recto'\n",
        "#creando la clase 'cáncer colorectal'[12]\n",
        "#Juntamos 'cáncer de vejiga' y 'cáncer de próstata'\n",
        "#creando la clase 'cáncer de vejiga o próstata'[13]\n",
        "#Eliminamos cáncer de duodeno y glándulas salivares por ser más raros\n",
        "#tanto en número de pacientes como en prevalencia a nivel mundial.\n",
        "\n",
        "#Para ello, efectuaremos todos los cambios en la variable de salida.\n",
        "#Entendemos que esto supone cambiar los resultados que van a salir,\n",
        "#pero es que esto es justo lo que buscamos\n",
        "#Nuestra idea es juntar conjuntos de cáncer relacionados\n",
        "#para evitar que métodos como la regresión logística\n",
        "#escojan únicamente la clase más representada (es uno de sus \n",
        "#principales sesgos), así como eliminar aquellos que no predice o \n",
        "#predice con muy baja probabilidad.\n",
        "\n",
        "#La nueva lista de clases es \n",
        "#pulmón, cabeza y cuello, esófago, tiroides, estómago, \n",
        "#colorectal, pancreas, vesícula biliar, hígado, riñón,\n",
        "#vejiga o próstata, ovario/corpus uteri/cervix uteri, pecho.\n",
        "\n",
        "completed_dataset[completed_dataset[\"class\"] == 9]\n",
        "#Como se puede ver, no hace falta eliminar el cáncer de ano.\n",
        "completed_dataset[completed_dataset['class'] == 20] #Sabemos que los indices son 312 y 313\n",
        "completed_dataset.at[313, 'class'] = 18\n",
        "completed_dataset.at[312, 'class'] = 18\n",
        "completed_dataset[completed_dataset['class'] == 19]\n",
        "lista = [306, 307, 308, 309, 310, 311]\n",
        "for i in range(len(lista)):\n",
        "  completed_dataset.at[lista[i], 'class'] = 18\n",
        "completed_dataset[completed_dataset['class'] == 21] #Vemos que es el 314 \n",
        "#para cancer de vagina\n",
        "completed_dataset.drop(314,axis=0, inplace=True) #Lo eliminamos, solo\n",
        "#se ejecuta la primera vez\n",
        "completed_dataset[completed_dataset['class'] == 16] #Vemos que es el 266 \n",
        "#para el cancer de testiculos\n",
        "completed_dataset.drop(266, axis = 0, inplace=True)\n",
        "completed_dataset[completed_dataset['class'] == 8] #Vemos que cancer de \n",
        "#recto está aquí\n",
        "lista = [181, 182, 183, 184, 185, 186]\n",
        "for i in range(len(lista)):\n",
        "  completed_dataset.at[lista[i], 'class'] = 7\n",
        "completed_dataset[completed_dataset['class'] == 15] #Vemos que cáncer de \n",
        "#vejiga es 264 y 265\n",
        "lista = [264, 265]\n",
        "for i in range(len(lista)):\n",
        "  completed_dataset.at[lista[i], 'class'] = 17\n",
        "\n",
        "\n",
        "\n",
        "#completed_dataset[completed_dataset['class'] == 6] #Vemos que el 166 es para el cáncer de duodeno\n",
        "completed_dataset.drop(166, axis = 0, inplace=True)\n",
        "\n",
        "\n",
        "#completed_dataset[completed_dataset['class'] == 10] #Vemos que 187 y 188 son de \n",
        "#cáncer de glándulas salivares.\n",
        "completed_dataset.drop(187, axis = 0, inplace=True)\n",
        "completed_dataset.drop(188, axis = 0, inplace=True)\n",
        "\n",
        "output = completed_dataset['class']\n",
        "input = completed_dataset.drop(columns='class')\n",
        "output.cat.remove_categories(removals = [6, 10, 20, 19, 21, 16, 8, 15], inplace = True)\n",
        "#Finalmente, tenemos 13 categorías y una base de datos bastante más balanceada\n",
        "#que la que teníamos. Aún así, sigue estando desbalanceada a favor del cáncer de\n",
        "#pulmón; habrá que tenerlo en cuenta en futuros análisis."
      ],
      "execution_count": null,
      "outputs": []
    },
    {
      "cell_type": "markdown",
      "metadata": {
        "id": "qzWLbxo72H0v"
      },
      "source": [
        "Debido a que nuestra base de datos está compuesta de variables categóricas, no podemos realizar un estudio de outliers, ya que no tendría sentido clasificar datos de este tipo de variables como valores atípicos. Debido a esto, el preprocesado termina aquí. "
      ]
    },
    {
      "cell_type": "markdown",
      "metadata": {
        "id": "MIRY_XIl5c3t"
      },
      "source": [
        "Bibliografía:\n",
        "1. Li, X., Xu, H., Yan, L., Gao, J., & Zhu, L. (2021). A Novel Clinical Nomogram for Predicting Cancer-Specific Survival in Adult Patients After Primary Surgery for Epithelial Ovarian Cancer: A Real-World Analysis Based on the Surveillance, Epidemiology, and End Results Database and External Validation in a Tertiary Center. Frontiers in oncology, 11, 670644. https://doi.org/10.3389/fonc.2021.670644\n",
        "2. Lee, C. C., Ho, H. C., Su, Y. C., Yu, C. H., & Yang, C. C. (2015). Modified Tumor Classification With Inclusion of Tumor Characteristics Improves Discrimination and Prediction Accuracy in Oral and Hypopharyngeal Cancer Patients Who Underwent Surgery. Medicine, 94(27), e1114. https://doi.org/10.1097/MD.0000000000001114\n",
        "3. Schlageter, M., Terracciano, L. M., D'Angelo, S., & Sorrentino, P. (2014). Histopathology of hepatocellular carcinoma. World journal of gastroenterology, 20(43), 15955–15964. https://doi.org/10.3748/wjg.v20.i43.15955\n",
        "4. Caratozzolo E, Massani M, Recordare A, Ciardo L, Antoniutti M, Jelmoni A, Bassi N. Squamous cell liver cancer arising from an epidermoid cyst. J Hepatobiliary Pancreat Surg. 2001;8(5):490-3. doi: 10.1007/s005340100015. PMID: 11702262.\n",
        "5. Dhasade, G. (2020, November 14). Ways To Handle Categorical Column Missing Data & Its Implementations. Medium. https://medium.com/analytics-vidhya/ways-to-handle-categorical-column-missing-data-its-implementations-15dc4a56893\n",
        "6. Azur, M. J., Stuart, E. A., Frangakis, C., & Leaf, P. J. (2011). Multiple imputation by chained equations: what is it and how does it work?. International journal of methods in psychiatric research, 20(1), 40–49. https://doi.org/10.1002/mpr.329\n",
        "7. Dolladille, C., Chrétien, B., Peyro-Saint-Paul, L. et al. Association Between Disease-Modifying Therapies Prescribed to Persons with Multiple Sclerosis and Cancer: a WHO Pharmacovigilance Database Analysis. Neurotherapeutics (2021). https://doi.org/10.1007/s13311-021-01073-y\n",
        "8. miceforest. (2021, October 16). PyPI. https://pypi.org/project/miceforest/\n",
        "9. Kinoshita Y, Singh A, Rovito PM Jr, Wang CY, Haas GP. Double primary cancers of the prostate and bladder: a literature review. Clin Prostate Cancer. 2004 Sep;3(2):83-6. doi: 10.3816/cgc.2004.n.016. PMID: 15479490.\n",
        "10. Griffiths, C. D., McKechnie, T., Lee, Y., Springer, J. E., Doumouras, A. G., Hong, D., & Eskicioglu, C. (2021). Presentation and survival among patients with colorectal cancer before the age of screening: a systematic review and meta-analysis. Canadian journal of surgery. Journal canadien de chirurgie, 64(1), E91–E100. https://doi.org/10.1503/cjs.013019 \n",
        "11. Wu, M., Gunning, W., & Ratnam, M. (1999, September). Expression of Folate Receptor Type α in Relation to Cell Type, Malignancy, and Differentiation in Ovary, Uterus, and Cervix. Cancer Epidemiology, Biomarkers and Prevention. Published. https://cebp.aacrjournals.org/content/8/9/775\n",
        "12. Siegel, R.L., Miller, K.D., Goding Sauer, A., Fedewa, S.A., Butterly, L.F., Anderson, J.C., Cercek, A., Smith, R.A. and Jemal, A. (2020), Colorectal cancer statistics, 2020. CA A Cancer J Clin, 70: 145-164. https://doi.org/10.3322/caac.21601\n",
        "13. Chun, T. Y. (1997). Coincidence of bladder and prostate cancer. Journal of Urology. Published. https://doi.org/10.1016/s0022-5347(01)65281-9"
      ]
    },
    {
      "cell_type": "markdown",
      "metadata": {
        "id": "swKptuVJHo96"
      },
      "source": [
        "#Clasificación y regresión con variable sintética: regresión lineal y no lineal."
      ]
    },
    {
      "cell_type": "code",
      "metadata": {
        "colab": {
          "base_uri": "https://localhost:8080/"
        },
        "id": "Sa02nrMJ-Cxt",
        "outputId": "900ec4a8-277e-40ff-f0e6-63a63a902e92"
      },
      "source": [
        "from sklearn.model_selection import train_test_split\n",
        "from sklearn.model_selection import cross_val_score\n",
        "from sklearn.linear_model import LinearRegression\n",
        "from sklearn.model_selection import StratifiedKFold\n",
        "from sklearn.metrics import mean_squared_error, r2_score\n",
        "#Para poder demostrar nuestros conocimientos sobre variable continua y \n",
        "#dado que toda nuestra base de datos es categórica, añadiremos\n",
        "#una variable aleatoria continua denominada Proba-of-rec, que\n",
        "#será una variable con datos del 1 al 100 que proporcionará\n",
        "#valores numéricos sobre la probabilidad de recuperación del cáncer.\n",
        "#Dado que es una variable sintética para poder efectuar regresiones lineales,\n",
        "#no recomendamos sacar conclusiones aplicables a un contexto clínico.\n",
        "input_lr = input\n",
        "columna_sin_clase = ['age', 'sex', 'histologic-type', 'degree-of-diffe', 'bone', 'bone-marrow', 'lung', 'pleura', 'peritoneum', 'liver', 'brain', 'skin', 'neck', 'supraclavicular', 'axillar', 'mediastinum', 'abdominal', 'proba-of-rec']\n",
        "input_lr['proba-of-rec'] = np.random.randint(0,  100, size=len(input[\"age\"]))\n",
        "\n",
        "#Dividimos los datos en entrenamiento y test.\n",
        "\n",
        "X_train_lr, X_test_lr, Y_train_lr, Y_test_lr = train_test_split(input_lr, output, test_size = 0.3, random_state = 42)\n",
        "\n",
        "skf = StratifiedKFold(n_splits=5)\n",
        "skf.get_n_splits(X_train_lr, Y_train_lr)\n",
        "\n",
        "#Aquí especificamos un código para poder acceder a cada fold en la validación\n",
        "#cruzada, por si fuese necesario en el futuro.\n",
        "train = []\n",
        "validation = []\n",
        "for train_index, validation_index in skf.split(X_train_lr, Y_train_lr):\n",
        "  train_groups= []\n",
        "  validation_groups= []\n",
        "  train_groups.append(train_index)\n",
        "  validation_groups.append(validation_index)\n",
        "  train.append(train_groups)\n",
        "  validation.append(validation_groups)\n",
        "\n",
        "#La idea será usar cada uno de estos folds como manera de comprobar cómo modelizan los datos de train antes del test.\n",
        "#Por tanto, la validación cruzada con train sería el estudio de a priori de cómo funcionará el modelo\n",
        "#mientras que con test sería comprobar cómo funciona en el entorno de la vida real.[15], [16]\n",
        "#Comprobamos que podemos acceder a cada uno de los grupos de la validación cruzada.\n",
        "\n",
        "#Calculamos algunos estadísticos para la regresión lineal, como el error cuadrático medio y el \n",
        "#r2 score. Como la variable que hemos escogido como continua está basada en datos completamente\n",
        "#aleatorios, nuestra capacidad para predecir y el error cuadrático medio serán \n",
        "#presumiblemente mucho peores.\n",
        "#Asumiremos, como no tenemos datos que nos indiquen lo contrario, y por simplicidad,\n",
        "#que nuestros datos están distribuidos idénticamente y de forma independiente, es decir,\n",
        "#que no siguen una serie temporal.\n",
        "#De forma realista, no tiene por qué ser así. Esto puede ser una limitación\n",
        "#de nuestro algoritmo y de nuestro estudio; se podría mejorar asumiendo\n",
        "#que sigue una serie temporal. [14]\n",
        "\n",
        "\n",
        "regressor = LinearRegression()\n",
        "scores_ecm = cross_val_score(regressor, X_train_lr, Y_train_lr, cv=skf, scoring = 'neg_mean_squared_error', n_jobs = -1)\n",
        "scores_r2 = cross_val_score(regressor, X_train_lr, Y_train_lr, cv=skf, scoring = 'r2', n_jobs = -1)\n",
        "\n",
        "\n",
        "print(\"ECM Scores: {}\".format(scores_ecm))\n",
        "print('R2 Scores : {}'.format(scores_r2))\n",
        "print(np.mean(np.absolute(scores_ecm)))\n",
        "print(np.mean(np.absolute(scores_r2)))\n",
        "#Esperamos, de media, un ECM de 32.12 y un R2 de 0.32.\n",
        "\n",
        "\n",
        "regressor = regressor.fit(X_train_lr,Y_train_lr) \n",
        "y_predt = regressor.predict(X_test_lr)\n",
        "\n",
        "# Calculamos el error cuadrático medio\n",
        "mse=mean_squared_error(Y_test_lr, y_predt)\n",
        "\n",
        "print(mse)\n",
        "\n",
        "# Calculamos R^2\n",
        "r_squared=r2_score(Y_test_lr, y_predt)\n",
        "print(r_squared)\n",
        "\n",
        "#Obtenemos 50.19 de ECM y 0.13 de R2 si lo hacemos todo con todo.\n",
        "#Vemos que responde mal a test, no está correctamente generalizado.\n",
        "#Esto es, de nuevo, debido al uso de la regresión lineal y la variable sintética."
      ],
      "execution_count": null,
      "outputs": [
        {
          "output_type": "stream",
          "name": "stdout",
          "text": [
            "ECM Scores: [-40.13859527 -31.55103126 -30.86929123 -36.30695263 -38.84769475]\n",
            "R2 Scores : [0.14963213 0.33708503 0.34863342 0.17743063 0.19089608]\n",
            "35.54271302720919\n",
            "0.2407354579289977\n",
            "35.90084620454351\n",
            "0.3434600811520976\n"
          ]
        }
      ]
    },
    {
      "cell_type": "markdown",
      "metadata": {
        "id": "syKS1o79Lwl3"
      },
      "source": [
        "14. (2021, May 1). Multiple Linear Regression using Python and Scikit Learn.  https://www.analyticsvidhya.com/blog/2021/05/multiple-linear-regression-using-python-and-scikit-learn/\n",
        "15. (2020, August 19). Why and how to Cross Validate a Model? - Towards Data Science. Medium. https://towardsdatascience.com/why-and-how-to-cross-validate-a-model-d6424b45261f?gi=c3c1a4538a47\n",
        "16. (2020, March 13). The Importance Of Cross Validation In Machine Learning. Digital Vidya. https://www.digitalvidya.com/blog/cross-validation-in-machine-learning/"
      ]
    },
    {
      "cell_type": "code",
      "metadata": {
        "colab": {
          "base_uri": "https://localhost:8080/"
        },
        "id": "rRPnNeOk-8gF",
        "outputId": "e659e06b-c3e9-4ae4-b6a4-0e65bfdcfe4e"
      },
      "source": [
        "#En esta celda, vamos a ir probando cuál es el parámetro que tiene mejor\n",
        "#relación lineal con la probabilidad de recuperación de cáncer. \n",
        "\n",
        "#Para age, obtenemos 58 de ECM y -0.003 de R2\n",
        "#Para sex, obtenemos 50.52 de ECM y 0.125 de R2\n",
        "#Para histologic-type, obtenemos 55 de ECM y 0.048 de R2\n",
        "#Para degree-of-diffe, obtenemos 56.56 de ECM y 0.0213 de R2\n",
        "#Para bone, obtenemos 57.47 de ECM y 0.005675 de R2\n",
        "#Para bone-marrow, obtenemos 58.13 de ECM y -0.00577 de R2\n",
        "#Para lung, obtenemos 57.61 de ECM y 0.003 de R2\n",
        "#Para pleura, obtenemos 57.85 de ECM y -0.0008 de R2\n",
        "#Para peritoneo, obtenemos 55.59 de ECM y 0.038 de R2\n",
        "#Para liver, obtenemos 58.97 de ECM y -0.02 de R2\n",
        "#Para brain, obtenemos de 54.395 ECM y de 0.05895 de R2\n",
        "#Para skin, obtenemos de 58.13 ECM y -0.006 de R2\n",
        "#Para neck, obtenemos de 58.13 ECM y de -0.005 R2\n",
        "#Para supraclavicular, obtenemos de 56.63 ECM y 0.020 de R2\n",
        "#Para axillar, obtenemos 50.91 de ECM y 0.119 de R2\n",
        "#Para mediastinum, obtenemos 55.9 de ECM y 0.03 de R2\n",
        "#Para abdominal, obtenemos 57.083 de ECM y 0.012 de R2\n",
        "#Como podemos observar, la capacidad de predicción de nuestro algoritmo\n",
        "#con la variable sintética es muy mala. Esto es debido a la propia aleatoriedad\n",
        "#de la variable y su comparación con \n",
        "#variables que son completamente categóricas. \n",
        "#Aún así, proporcionaremos alguna figura de mérito que represente\n",
        "#la regresión lineal tanto de todas con todas como del mejor parámetro, que es sex.\n",
        "\n",
        "lista = [X_train_lr['proba-of-rec'], X_train_lr['sex']]\n",
        "prueba = pd.concat(lista, axis=1)\n",
        "\n",
        "lista1 = [X_test_lr['proba-of-rec'], X_test_lr['sex']]\n",
        "prueba2 = pd.concat(lista1, axis = 1)\n",
        "\n",
        "regressor = regressor.fit(prueba,Y_train_lr) \n",
        "y_pred = regressor.predict(prueba2)\n",
        "\n",
        "# Calculamos el error cuadrático medio\n",
        "mse=mean_squared_error(Y_test_lr, y_pred)\n",
        "\n",
        "print(mse)\n",
        "\n",
        "# Calculamos R^2\n",
        "r_squared=r2_score(Y_test_lr, y_pred)\n",
        "print(r_squared)"
      ],
      "execution_count": null,
      "outputs": [
        {
          "output_type": "stream",
          "name": "stdout",
          "text": [
            "47.5809515445847\n",
            "0.12985911563738795\n"
          ]
        }
      ]
    },
    {
      "cell_type": "code",
      "metadata": {
        "colab": {
          "base_uri": "https://localhost:8080/",
          "height": 335
        },
        "id": "xJH8hnStD-Af",
        "outputId": "825ac1ea-7c7a-406f-c549-fedd874a05e4"
      },
      "source": [
        "sns.regplot(y_predt, Y_test_lr)\n",
        "plt.xlabel('y_pred')\n",
        "plt.ylabel('y_test')\n",
        "plt.show()\n",
        "#Como podemos ver, obedece mejor a una sigmoide que a una recta."
      ],
      "execution_count": null,
      "outputs": [
        {
          "output_type": "stream",
          "name": "stderr",
          "text": [
            "/usr/local/lib/python3.7/dist-packages/seaborn/_decorators.py:43: FutureWarning: Pass the following variables as keyword args: x, y. From version 0.12, the only valid positional argument will be `data`, and passing other arguments without an explicit keyword will result in an error or misinterpretation.\n",
            "  FutureWarning\n"
          ]
        },
        {
          "output_type": "display_data",
          "data": {
            "image/png": "[encoded data removed]",
            "text/plain": [
              "<Figure size 432x288 with 1 Axes>"
            ]
          },
          "metadata": {
            "needs_background": "light"
          }
        }
      ]
    },
    {
      "cell_type": "markdown",
      "metadata": {
        "id": "PII60cDJ-iwO"
      },
      "source": [
        "Como se puede ver, dada la distribución de las muestras y por mucho que queramos añadir una variable sintética, el modelado de la frontera de decisión es mucho más eficaz usando otro tipo de regresiones, como la logística."
      ]
    },
    {
      "cell_type": "code",
      "metadata": {
        "colab": {
          "base_uri": "https://localhost:8080/"
        },
        "id": "77NO_cWgL5gD",
        "outputId": "73ccca44-bb5b-452c-cdf2-26e9722576c2"
      },
      "source": [
        "#A continuación, añadimos otro tipo de regresiones basadas en Ridge, Lasso y Elastic\n",
        "#Net, para observar en qué medida podrían mejorar el modelo.\n",
        "from sklearn.linear_model import Lasso\n",
        "from sklearn.linear_model import Ridge\n",
        "from sklearn.linear_model import ElasticNet\n",
        "#Comenzamos con el modelo de Lasso.\n",
        "regressor = Lasso()\n",
        "scores_ecm = cross_val_score(regressor, X_train_lr, Y_train_lr, cv=skf, scoring = 'neg_mean_squared_error', n_jobs = -1)\n",
        "scores_r2 = cross_val_score(regressor, X_train_lr, Y_train_lr, cv=skf, scoring = 'r2', n_jobs = -1)\n",
        "\n",
        "\n",
        "print(\"ECM Scores: {}\".format(scores_ecm))\n",
        "print('R2 Scores : {}'.format(scores_r2))\n",
        "print(np.mean(np.absolute(scores_ecm)))\n",
        "print(np.mean(np.absolute(scores_r2)))\n",
        "#Esperamos, de media, un ECM de 45 y un R2 de 0.04.\n",
        "\n",
        "\n",
        "regressor = regressor.fit(X_train_lr,Y_train_lr) \n",
        "y_predt = regressor.predict(X_test_lr)\n",
        "\n",
        "# Calculamos el error cuadrático medio\n",
        "mse=mean_squared_error(Y_test_lr, y_pred)\n",
        "\n",
        "print(mse)\n",
        "\n",
        "# Calculamos R^2\n",
        "r_squared=r2_score(Y_test_lr, y_pred)\n",
        "print(r_squared)\n",
        "\n",
        "#Obtenemos 50.19 de ECM y 0.13 de R2 si lo hacemos todo con todo.\n",
        "#Vemos que responde mal a test, no está correctamente generalizado.\n",
        "#Esto es, de nuevo, debido al uso de la regresión lineal y la variable sintética."
      ],
      "execution_count": null,
      "outputs": [
        {
          "output_type": "stream",
          "name": "stdout",
          "text": [
            "ECM Scores: [-45.78450898 -45.45287062 -48.35430728 -42.0396153  -45.36083168]\n",
            "R2 Scores : [ 0.03001899  0.04499514 -0.02031431  0.04755157  0.05524312]\n",
            "45.39842676856487\n",
            "0.039624625793214595\n",
            "52.38708491923674\n",
            "0.04196652397566525\n"
          ]
        }
      ]
    },
    {
      "cell_type": "code",
      "metadata": {
        "colab": {
          "base_uri": "https://localhost:8080/",
          "height": 335
        },
        "id": "ZdrFc7kkMqat",
        "outputId": "791a0b4b-6af1-44e1-aa66-4d3c9745a3d0"
      },
      "source": [
        "#Representamos Lasso.\n",
        "sns.regplot(y_predt, Y_test_lr)\n",
        "plt.xlabel('y_pred')\n",
        "plt.xlim(0, 20)\n",
        "plt.ylabel('y_test')\n",
        "plt.show()"
      ],
      "execution_count": null,
      "outputs": [
        {
          "output_type": "stream",
          "name": "stderr",
          "text": [
            "/usr/local/lib/python3.7/dist-packages/seaborn/_decorators.py:43: FutureWarning: Pass the following variables as keyword args: x, y. From version 0.12, the only valid positional argument will be `data`, and passing other arguments without an explicit keyword will result in an error or misinterpretation.\n",
            "  FutureWarning\n"
          ]
        },
        {
          "output_type": "display_data",
          "data": {
            "image/png": "[encoded data removed]",
            "text/plain": [
              "<Figure size 432x288 with 1 Axes>"
            ]
          },
          "metadata": {
            "needs_background": "light"
          }
        }
      ]
    },
    {
      "cell_type": "code",
      "metadata": {
        "colab": {
          "base_uri": "https://localhost:8080/"
        },
        "id": "GQzn-YJ6NBrU",
        "outputId": "0015f8ac-d247-459b-e69d-ebceb3ee1104"
      },
      "source": [
        "#Ridge\n",
        "ridge = Ridge()\n",
        "scores_ecm = cross_val_score(ridge, X_train_lr, Y_train_lr, cv=skf, scoring = 'neg_mean_squared_error', n_jobs = -1)\n",
        "scores_r2 = cross_val_score(ridge, X_train_lr, Y_train_lr, cv=skf, scoring = 'r2', n_jobs = -1)\n",
        "\n",
        "\n",
        "print(\"ECM Scores: {}\".format(scores_ecm))\n",
        "print('R2 Scores : {}'.format(scores_r2))\n",
        "print(np.mean(np.absolute(scores_ecm)))\n",
        "print(np.mean(np.absolute(scores_r2)))\n",
        "#Esperamos, de media, un ECM de 32.11 y un R2 de 0.32.\n",
        "\n",
        "\n",
        "regressor = ridge.fit(X_train_lr,Y_train_lr) \n",
        "y_predt = regressor.predict(X_test_lr)\n",
        "\n",
        "# Calculamos el error cuadrático medio\n",
        "mse=mean_squared_error(Y_test_lr, y_pred)\n",
        "\n",
        "print(mse)\n",
        "\n",
        "# Calculamos R^2\n",
        "r_squared=r2_score(Y_test_lr, y_pred)\n",
        "print(r_squared)\n",
        "\n",
        "#Obtenemos 55.18 de ECM y 0.045 de R2 si lo hacemos todo con todo.\n",
        "#Vemos que responde mal a test, no está correctamente generalizado.\n",
        "#Esto es, de nuevo, debido al uso de la regresión lineal y la variable sintética."
      ],
      "execution_count": null,
      "outputs": [
        {
          "output_type": "stream",
          "name": "stdout",
          "text": [
            "ECM Scores: [-40.38145166 -31.09863998 -30.05375587 -35.18752029 -39.033478  ]\n",
            "R2 Scores : [0.14448703 0.34659017 0.36584187 0.20279246 0.18702666]\n",
            "35.15096915954133\n",
            "0.24934763619157727\n",
            "52.38708491923674\n",
            "0.04196652397566525\n"
          ]
        }
      ]
    },
    {
      "cell_type": "code",
      "metadata": {
        "colab": {
          "base_uri": "https://localhost:8080/"
        },
        "id": "qg4_r66ENRv_",
        "outputId": "c2b1a816-7bf4-4f44-aa38-f3aa96a6b3e5"
      },
      "source": [
        "lista = [X_train_lr['proba-of-rec'], X_train_lr['sex']]\n",
        "prueba = pd.concat(lista, axis=1)\n",
        "\n",
        "lista1 = [X_test_lr['proba-of-rec'], X_test_lr['sex']]\n",
        "prueba2 = pd.concat(lista1, axis = 1)\n",
        "\n",
        "regressor = ridge.fit(prueba,Y_train_lr) \n",
        "y_pred = regressor.predict(prueba2)\n",
        "\n",
        "# Calculamos el error cuadrático medio\n",
        "mse=mean_squared_error(Y_test_lr, y_pred)\n",
        "\n",
        "print(mse)\n",
        "\n",
        "# Calculamos R^2\n",
        "r_squared=r2_score(Y_test_lr, y_pred)\n",
        "print(r_squared)"
      ],
      "execution_count": null,
      "outputs": [
        {
          "output_type": "stream",
          "name": "stdout",
          "text": [
            "47.598881244459406\n",
            "0.12953122465583167\n"
          ]
        }
      ]
    },
    {
      "cell_type": "code",
      "metadata": {
        "colab": {
          "base_uri": "https://localhost:8080/",
          "height": 335
        },
        "id": "njJZC04dNR2n",
        "outputId": "0e54de38-bae8-4532-ae96-bde498e67c46"
      },
      "source": [
        "sns.regplot(y_predt, Y_test_lr)\n",
        "plt.xlabel('y_pred')\n",
        "plt.ylabel('y_test')\n",
        "plt.show()"
      ],
      "execution_count": null,
      "outputs": [
        {
          "output_type": "stream",
          "name": "stderr",
          "text": [
            "/usr/local/lib/python3.7/dist-packages/seaborn/_decorators.py:43: FutureWarning: Pass the following variables as keyword args: x, y. From version 0.12, the only valid positional argument will be `data`, and passing other arguments without an explicit keyword will result in an error or misinterpretation.\n",
            "  FutureWarning\n"
          ]
        },
        {
          "output_type": "display_data",
          "data": {
            "image/png": "[encoded data removed]",
            "text/plain": [
              "<Figure size 432x288 with 1 Axes>"
            ]
          },
          "metadata": {
            "needs_background": "light"
          }
        }
      ]
    },
    {
      "cell_type": "code",
      "metadata": {
        "colab": {
          "base_uri": "https://localhost:8080/"
        },
        "id": "5e2cB8zlNkmF",
        "outputId": "d4c05fc5-3feb-4365-fb6a-7c1447cadc3e"
      },
      "source": [
        "#ElasticNet\n",
        "elasticnet = ElasticNet()\n",
        "scores_ecm = cross_val_score(elasticnet, X_train_lr, Y_train_lr, cv=skf, scoring = 'neg_mean_squared_error', n_jobs = -1)\n",
        "scores_r2 = cross_val_score(elasticnet, X_train_lr, Y_train_lr, cv=skf, scoring = 'r2', n_jobs = -1)\n",
        "\n",
        "\n",
        "print(\"ECM Scores: {}\".format(scores_ecm))\n",
        "print('R2 Scores : {}'.format(scores_r2))\n",
        "print(np.mean(np.absolute(scores_ecm)))\n",
        "print(np.mean(np.absolute(scores_r2)))\n",
        "#Esperamos, de media, un ECM de 43.29 y un R2 de 0.08.\n",
        "\n",
        "\n",
        "regressor = elasticnet.fit(X_train_lr,Y_train_lr) \n",
        "y_predt = regressor.predict(X_test_lr)\n",
        "\n",
        "# Calculamos el error cuadrático medio\n",
        "mse=mean_squared_error(Y_test_lr, y_pred)\n",
        "\n",
        "print(mse)\n",
        "\n",
        "# Calculamos R^2\n",
        "r_squared=r2_score(Y_test_lr, y_pred)\n",
        "print(r_squared)\n",
        "\n",
        "#Obtenemos 50.18 de ECM y 0.13 de R2 si lo hacemos todo con todo.\n",
        "#Vemos que responde mal a test, no está correctamente generalizado.\n",
        "#Esto es, de nuevo, debido al uso de la regresión lineal y la variable sintética."
      ],
      "execution_count": null,
      "outputs": [
        {
          "output_type": "stream",
          "name": "stdout",
          "text": [
            "ECM Scores: [-44.7005487  -42.85497414 -45.27812355 -40.48519427 -44.63712801]\n",
            "R2 Scores : [0.05298354 0.09957923 0.04459561 0.08276849 0.07031613]\n",
            "43.591193733787264\n",
            "0.07004860019704581\n",
            "47.598881244459406\n",
            "0.12953122465583167\n"
          ]
        }
      ]
    },
    {
      "cell_type": "code",
      "metadata": {
        "colab": {
          "base_uri": "https://localhost:8080/"
        },
        "id": "5h3Rbng1NykQ",
        "outputId": "322221a6-38fd-4481-f608-69fbe7fa4f98"
      },
      "source": [
        "lista = [X_train_lr['proba-of-rec'], X_train_lr['sex']]\n",
        "prueba = pd.concat(lista, axis=1)\n",
        "\n",
        "lista1 = [X_test_lr['proba-of-rec'], X_test_lr['sex']]\n",
        "prueba2 = pd.concat(lista1, axis = 1)\n",
        "\n",
        "regressor = elasticnet.fit(prueba,Y_train_lr) \n",
        "y_pred = regressor.predict(prueba2)\n",
        "\n",
        "# Calculamos el error cuadrático medio\n",
        "mse=mean_squared_error(Y_test_lr, y_pred)\n",
        "\n",
        "print(mse)\n",
        "\n",
        "# Calculamos R^2\n",
        "r_squared=r2_score(Y_test_lr, y_pred)\n",
        "print(r_squared)"
      ],
      "execution_count": null,
      "outputs": [
        {
          "output_type": "stream",
          "name": "stdout",
          "text": [
            "52.26139391137089\n",
            "0.044265109463984986\n"
          ]
        }
      ]
    },
    {
      "cell_type": "code",
      "metadata": {
        "colab": {
          "base_uri": "https://localhost:8080/",
          "height": 335
        },
        "id": "gEWFRvuONyrH",
        "outputId": "c36eabca-1074-40ac-b8e1-c865f0b58ce9"
      },
      "source": [
        "sns.regplot(y_predt, Y_test_lr)\n",
        "plt.xlabel('y_pred')\n",
        "plt.ylabel('y_test')\n",
        "plt.show()"
      ],
      "execution_count": null,
      "outputs": [
        {
          "output_type": "stream",
          "name": "stderr",
          "text": [
            "/usr/local/lib/python3.7/dist-packages/seaborn/_decorators.py:43: FutureWarning: Pass the following variables as keyword args: x, y. From version 0.12, the only valid positional argument will be `data`, and passing other arguments without an explicit keyword will result in an error or misinterpretation.\n",
            "  FutureWarning\n"
          ]
        },
        {
          "output_type": "display_data",
          "data": {
            "image/png": "[encoded data removed]",
            "text/plain": [
              "<Figure size 432x288 with 1 Axes>"
            ]
          },
          "metadata": {
            "needs_background": "light"
          }
        }
      ]
    },
    {
      "cell_type": "markdown",
      "metadata": {
        "id": "02w7lUJljanT"
      },
      "source": [
        "#Regresión logística\n"
      ]
    },
    {
      "cell_type": "code",
      "metadata": {
        "id": "s9fKrT-0tLiT",
        "colab": {
          "base_uri": "https://localhost:8080/",
          "height": 630
        },
        "outputId": "432df896-68e9-4a96-a3aa-cc875953f9ef"
      },
      "source": [
        "#A continuación, procedemos a trabajar con nuestra base de datos real, sin tener\n",
        "#en cuenta la variable sintética.\n",
        "\n",
        "from sklearn.linear_model import LogisticRegression\n",
        "from sklearn.metrics import accuracy_score\n",
        "from sklearn.metrics import classification_report\n",
        "from sklearn.metrics import recall_score\n",
        "from sklearn.metrics import confusion_matrix, ConfusionMatrixDisplay\n",
        "from sklearn.svm import SVC\n",
        "\n",
        "#Dividimos los datos en entrenamiento y test.\n",
        "\n",
        "output = completed_dataset['class']\n",
        "input = completed_dataset.drop(columns='class')\n",
        "\n",
        "X_train, X_test, Y_train, Y_test = train_test_split(input, output, test_size = 0.2, random_state = 42)\n",
        "\n",
        "skf = StratifiedKFold(n_splits=5)\n",
        "skf.get_n_splits(X_train_lr, Y_train_lr)\n",
        "train = []\n",
        "validation = []\n",
        "\n",
        "for train_index, validation_index in skf.split(X_train, Y_train):\n",
        "  train_groups= []\n",
        "  validation_groups= []\n",
        "  train_groups.append(train_index)\n",
        "  validation_groups.append(validation_index)\n",
        "  train.append(train_groups)\n",
        "  validation.append(validation_groups)\n",
        "  \n",
        "#Usaremos el solver Saga, que es un acrónimo para el descenso estocástico por gradientes.\n",
        "\n",
        "\n",
        "regressor = LogisticRegression(multi_class = 'multinomial', max_iter=1000, solver = 'saga' , penalty = 'none', n_jobs = -1)\n",
        "scores_ecm = cross_val_score(regressor, X_train, Y_train, cv=skf, scoring = 'neg_mean_squared_error', n_jobs = -1)\n",
        "scores_r2 = cross_val_score(regressor, X_train, Y_train, cv=skf, scoring = 'r2', n_jobs = -1)\n",
        "\n",
        "\n",
        "print(\"ECM Scores: {}\".format(scores_ecm))\n",
        "print('R2 Scores : {}'.format(scores_r2))\n",
        "print(np.mean(np.absolute(scores_ecm)))\n",
        "print(np.mean(np.absolute(scores_r2)))\n",
        "\n",
        "mse_results = []\n",
        "r2_results = []\n",
        "\n",
        "regressor = regressor.fit(X_train, Y_train)\n",
        "y_pred = regressor.predict(X_test)\n",
        "\n",
        "#Calculamos la matriz de confusión\n",
        "cm = confusion_matrix(Y_test, y_pred)\n",
        "print(cm)\n",
        "disp = ConfusionMatrixDisplay(confusion_matrix=cm, display_labels=regressor.classes_)\n",
        "disp.plot()\n",
        "plt.show()\n",
        "\n",
        "#Calculamos la precisión.\n",
        "precision=accuracy_score(Y_test, y_pred)\n",
        "print('Precisión: {}'. format(precision))          \n",
        "#Calculamos la sensibilidad\n",
        "sensibilidad=recall_score(Y_test, y_pred, average = 'weighted')\n",
        "print('Sensibilidad: {}'.format(sensibilidad))"
      ],
      "execution_count": null,
      "outputs": [
        {
          "output_type": "stream",
          "name": "stdout",
          "text": [
            "ECM Scores: [-36.16666667 -41.46296296 -56.03773585 -65.09433962 -84.81132075]\n",
            "R2 Scores : [ 0.22046301  0.0760166  -0.22869052 -0.35072245 -0.67072247]\n",
            "56.71460517120895\n",
            "0.3093230112576045\n"
          ]
        },
        {
          "output_type": "stream",
          "name": "stderr",
          "text": [
            "/usr/local/lib/python3.7/dist-packages/sklearn/linear_model/_sag.py:330: ConvergenceWarning: The max_iter was reached which means the coef_ did not converge\n",
            "  \"the coef_ did not converge\", ConvergenceWarning)\n"
          ]
        },
        {
          "output_type": "stream",
          "name": "stdout",
          "text": [
            "[[12  0  0  3  1  0  0  1  1  0  0  1]\n",
            " [ 0  1  2  0  0  0  0  0  0  0  0  0]\n",
            " [ 3  0  0  0  0  0  0  0  0  0  0  0]\n",
            " [ 0  0  0  1  0  0  0  0  1  1  0  1]\n",
            " [ 1  0  0  0  0  0  0  1  0  0  2  1]\n",
            " [ 1  1  0  0  3  0  0  0  1  0  0  0]\n",
            " [ 0  0  0  0  1  0  0  0  0  0  3  0]\n",
            " [ 1  0  0  0  0  0  0  1  0  0  0  0]\n",
            " [ 0  0  0  0  0  0  0  0  0  1  0  1]\n",
            " [ 0  0  0  0  1  0  0  0  1  0  0  0]\n",
            " [ 0  0  0  0  0  1  3  0  0  0  6  0]\n",
            " [ 0  0  0  0  0  0  0  0  0  0  0  7]]\n"
          ]
        },
        {
          "output_type": "display_data",
          "data": {
            "image/png": "[encoded data removed]",
            "text/plain": [
              "<Figure size 432x288 with 2 Axes>"
            ]
          },
          "metadata": {
            "needs_background": "light"
          }
        },
        {
          "output_type": "stream",
          "name": "stdout",
          "text": [
            "Accuracy: 0.417910447761194\n",
            "Sensibilidad: 0.417910447761194\n"
          ]
        }
      ]
    },
    {
      "cell_type": "markdown",
      "metadata": {
        "id": "3JIHAtUGNXg3"
      },
      "source": [
        "Debido a la elevada cantidad de clases que disponemos, la representación del modelo de regresión logística múltiple se vuelve impracticable. Esto puede ser una limitación de nuestro estudio. Más adelante, trabajando en el balanceo de nuestra base de datos, podremos considerar disminuir aún más el número de clases\n",
        "para mejorar en este aspecto.\n",
        "\n",
        "A la hora de tratar la dimensionalidad, podríamos disminuirla mediante el uso de regresiones logísticas univariantes entre categorías. Sin embargo, debido a la baja correlación que presentan y que no tenemos un problema real con la misma (número de muestras >> 10 veces el número de dimensiones), no lo vemos \n",
        "necesario a priori.\n",
        "\n",
        "Por último, y en relación a lo descrito en el primer apartado, disminuir el número de clases podría provocar una mayor incertidumbre acerca del cáncer que se está prediciendo.\n",
        "Por tanto, habrá que llegar a un compromiso entre la reducción del número de clases y la incertidumbre/generalización entre tipo de cánceres a predecir.\n",
        "\n",
        "\n"
      ]
    },
    {
      "cell_type": "code",
      "metadata": {
        "id": "cPmQO04e1aVQ",
        "colab": {
          "base_uri": "https://localhost:8080/",
          "height": 596
        },
        "outputId": "48b886fa-d938-42ad-d2f1-d33695cd5ee6"
      },
      "source": [
        "#Aplicamos el modelo Lasso, con penalty L1 y un parámetro de regularización de 20, que es el que nos ofrece mejor rendimiento.\n",
        "logreg = LogisticRegression(C = 20, solver='saga', penalty='l1', multi_class = 'multinomial', max_iter=2000, n_jobs = -1)\n",
        "\n",
        "regressor=logreg.fit(X_train, Y_train)\n",
        "\n",
        "y_pred_lasso = logreg.predict(X_test)\n",
        "scores_ecm = cross_val_score(logreg, X_train, Y_train, cv=skf, scoring = 'neg_mean_squared_error', n_jobs = -1)\n",
        "scores_r2 = cross_val_score(logreg, X_train, Y_train, cv=skf, scoring = 'r2', n_jobs = -1)\n",
        "\n",
        "\n",
        "print(\"ECM Scores: {}\".format(scores_ecm))\n",
        "print('R2 Scores : {}'.format(scores_r2))\n",
        "print(np.mean(np.absolute(scores_ecm)))\n",
        "print(np.mean(np.absolute(scores_r2)))\n",
        "\n",
        "#  Calculamos la matriz de confusión\n",
        "cm = confusion_matrix(Y_test, y_pred_lasso)\n",
        "print(cm)\n",
        "disp = ConfusionMatrixDisplay(confusion_matrix=cm, display_labels=logreg.classes_)\n",
        "disp.plot()\n",
        "plt.show()\n",
        "\n",
        "# Calculamos la precisión.\n",
        "precision=accuracy_score(Y_test, y_pred_lasso)\n",
        "print('Precisión: {}'.format(precision))\n",
        "              \n",
        "#Calculamos la sensibilidad.\n",
        "sensibilidad_lasso=recall_score(Y_test, y_pred_lasso, average = 'weighted')\n",
        "print('Sensibilidad: {}'.format(sensibilidad_lasso))"
      ],
      "execution_count": null,
      "outputs": [
        {
          "output_type": "stream",
          "name": "stdout",
          "text": [
            "ECM Scores: [-35.33333333 -43.59259259 -57.0754717  -63.18867925 -80.43396226]\n",
            "R2 Scores : [ 0.23842469  0.02855876 -0.25144405 -0.31117956 -0.58449163]\n",
            "55.92480782669462\n",
            "0.28281974108136854\n",
            "[[12  0  0  3  1  0  0  1  1  0  0  1]\n",
            " [ 0  1  2  0  0  0  0  0  0  0  0  0]\n",
            " [ 3  0  0  0  0  0  0  0  0  0  0  0]\n",
            " [ 0  0  0  1  0  0  0  0  1  1  0  1]\n",
            " [ 1  0  0  0  0  0  0  1  0  0  2  1]\n",
            " [ 1  1  0  0  3  0  0  0  1  0  0  0]\n",
            " [ 0  0  0  0  1  0  0  0  0  0  3  0]\n",
            " [ 1  0  0  0  0  0  0  1  0  0  0  0]\n",
            " [ 0  0  0  0  0  0  0  0  0  1  0  1]\n",
            " [ 0  0  0  0  1  0  0  0  1  0  0  0]\n",
            " [ 0  0  0  0  0  1  2  0  0  0  7  0]\n",
            " [ 0  0  0  0  0  0  0  0  0  0  0  7]]\n"
          ]
        },
        {
          "output_type": "display_data",
          "data": {
            "image/png": "[encoded data removed]",
            "text/plain": [
              "<Figure size 432x288 with 2 Axes>"
            ]
          },
          "metadata": {
            "needs_background": "light"
          }
        },
        {
          "output_type": "stream",
          "name": "stdout",
          "text": [
            "Precisión: 0.43283582089552236\n",
            "Sensibilidad: 0.43283582089552236\n"
          ]
        }
      ]
    },
    {
      "cell_type": "code",
      "metadata": {
        "colab": {
          "base_uri": "https://localhost:8080/",
          "height": 596
        },
        "id": "AXTBpDDk4PGv",
        "outputId": "7e428acb-718e-4a3f-de83-0650f386b686"
      },
      "source": [
        "#Aplicamos Ridge, con un penalty L2 y un parámetro de regularización de 10, que es el que nos ofrece mejor rendimiento.\n",
        "\n",
        "logreg = LogisticRegression(C = 10, solver='saga', penalty='l2', multi_class = 'multinomial', max_iter=2000, n_jobs = -1)\n",
        "\n",
        "regressor=logreg.fit(X_train, Y_train)\n",
        "\n",
        "# Obtenemos la salida predicha\n",
        "y_pred_ridge = logreg.predict(X_test)\n",
        "scores_ecm = cross_val_score(logreg, X_train, Y_train, cv=skf, scoring = 'neg_mean_squared_error', n_jobs = -1)\n",
        "scores_r2 = cross_val_score(logreg, X_train, Y_train, cv=skf, scoring = 'r2', n_jobs = -1)\n",
        "\n",
        "\n",
        "print(\"ECM Scores: {}\".format(scores_ecm))\n",
        "print('R2 Scores : {}'.format(scores_r2))\n",
        "print(np.mean(np.absolute(scores_ecm)))\n",
        "print(np.mean(np.absolute(scores_r2)))\n",
        "\n",
        "#  Calculamos la matriz de confusión\n",
        "cm = confusion_matrix(Y_test, y_pred_ridge)\n",
        "print(cm)\n",
        "disp = ConfusionMatrixDisplay(confusion_matrix=cm, display_labels=logreg.classes_)\n",
        "disp.plot()\n",
        "plt.show()\n",
        "\n",
        "# Calculamos precisión.\n",
        "precision=accuracy_score(Y_test, y_pred_ridge)\n",
        "print('Precision: {}'.format(precision))\n",
        "\n",
        "#Calculamos sensibilidad.\n",
        "sensibilidad_ridge=recall_score(Y_test, y_pred_ridge, average = 'weighted')\n",
        "print('Sensibilidad: {}'.format(sensibilidad_ridge))"
      ],
      "execution_count": null,
      "outputs": [
        {
          "output_type": "stream",
          "name": "stdout",
          "text": [
            "ECM Scores: [-34.75925926 -33.35185185 -63.39622642 -51.58490566 -65.45283019]\n",
            "R2 Scores : [ 0.2507983   0.25676905 -0.39003372 -0.07039861 -0.28937403]\n",
            "49.709014675052416\n",
            "0.2514747391849749\n",
            "[[12  0  0  3  1  0  0  1  1  0  0  1]\n",
            " [ 0  3  0  0  0  0  0  0  0  0  0  0]\n",
            " [ 3  0  0  0  0  0  0  0  0  0  0  0]\n",
            " [ 0  0  0  1  0  0  0  0  2  1  0  0]\n",
            " [ 1  0  0  0  0  0  0  1  0  0  2  1]\n",
            " [ 1  1  0  0  3  0  0  0  1  0  0  0]\n",
            " [ 0  0  0  0  1  0  0  0  0  0  3  0]\n",
            " [ 1  0  0  0  0  0  1  0  0  0  0  0]\n",
            " [ 0  0  0  0  0  0  0  0  1  1  0  0]\n",
            " [ 0  0  0  0  1  0  0  0  1  0  0  0]\n",
            " [ 1  0  0  0  0  1  1  0  0  0  7  0]\n",
            " [ 0  0  0  0  0  0  0  0  0  0  0  7]]\n"
          ]
        },
        {
          "output_type": "display_data",
          "data": {
            "image/png": "[encoded data removed]",
            "text/plain": [
              "<Figure size 432x288 with 2 Axes>"
            ]
          },
          "metadata": {
            "needs_background": "light"
          }
        },
        {
          "output_type": "stream",
          "name": "stdout",
          "text": [
            "Precision: 0.4626865671641791\n",
            "Sensibilidad: 0.4626865671641791\n"
          ]
        }
      ]
    },
    {
      "cell_type": "code",
      "metadata": {
        "id": "XDdqaGEH7b6T",
        "colab": {
          "base_uri": "https://localhost:8080/",
          "height": 596
        },
        "outputId": "221d14c9-ccc2-4229-bbbb-f412ce6e60a7"
      },
      "source": [
        "#Por último, aplicamos ElasticNet, con un l1_ratio de 0.15 para expresar un tradeoff entre los dos tipos de modelo anteriores. El parámetro de \n",
        "#regularización que utilizaremos será de 10 dado que es el que nos ofrece mejor rendimiento.\n",
        "\n",
        "logreg = LogisticRegression(C = 10, solver='saga', penalty='elasticnet', multi_class = 'multinomial', max_iter=2000, n_jobs = -1, l1_ratio = 0.15)\n",
        "\n",
        "\n",
        "regressor=logreg.fit(X_train, Y_train)\n",
        "\n",
        "#Obtenemos la salida predicha.\n",
        "y_pred_en = logreg.predict(X_test)\n",
        "scores_ecm = cross_val_score(logreg, X_train, Y_train, cv=skf, scoring = 'neg_mean_squared_error', n_jobs = -1)\n",
        "scores_r2 = cross_val_score(logreg, X_train, Y_train, cv=skf, scoring = 'r2', n_jobs = -1)\n",
        "\n",
        "\n",
        "print(\"ECM Scores: {}\".format(scores_ecm))\n",
        "print('R2 Scores : {}'.format(scores_r2))\n",
        "print(np.mean(np.absolute(scores_ecm)))\n",
        "print(np.mean(np.absolute(scores_r2)))\n",
        "\n",
        "#Calculamos la matriz de confusión\n",
        "cm = confusion_matrix(Y_test, y_pred_en)\n",
        "print(cm)\n",
        "disp = ConfusionMatrixDisplay(confusion_matrix=cm, display_labels=logreg.classes_)\n",
        "disp.plot()\n",
        "plt.show()\n",
        "\n",
        "#Calculamos la precisión\n",
        "precision=accuracy_score(Y_test, y_pred_en)\n",
        "print('Precision: {}'.format(precision))\n",
        "            \n",
        "#Calculamos la sensibilidad\n",
        "sensibilidad_en=recall_score(Y_test, y_pred_en, average = 'weighted')\n",
        "print('Sensibilidad: {}'.format(sensibilidad_en))"
      ],
      "execution_count": null,
      "outputs": [
        {
          "output_type": "stream",
          "name": "stdout",
          "text": [
            "ECM Scores: [-34.74074074 -33.35185185 -60.28301887 -51.58490566 -65.45283019]\n",
            "R2 Scores : [ 0.25119745  0.25676905 -0.32177314 -0.07039861 -0.28937403]\n",
            "49.08266946191475\n",
            "0.2379024519839076\n",
            "[[12  0  0  3  1  0  0  1  1  0  0  1]\n",
            " [ 0  3  0  0  0  0  0  0  0  0  0  0]\n",
            " [ 3  0  0  0  0  0  0  0  0  0  0  0]\n",
            " [ 0  0  0  1  0  0  0  0  2  1  0  0]\n",
            " [ 1  0  0  0  0  0  0  1  0  0  2  1]\n",
            " [ 1  1  0  0  3  0  0  0  1  0  0  0]\n",
            " [ 0  0  0  0  1  0  0  0  0  0  3  0]\n",
            " [ 1  0  0  0  0  0  1  0  0  0  0  0]\n",
            " [ 0  0  0  0  0  0  0  0  1  1  0  0]\n",
            " [ 0  0  0  0  1  0  0  0  1  0  0  0]\n",
            " [ 1  0  0  0  0  1  1  0  0  0  7  0]\n",
            " [ 0  0  0  0  0  0  0  0  0  0  0  7]]\n"
          ]
        },
        {
          "output_type": "display_data",
          "data": {
            "image/png": "[encoded data removed]",
            "text/plain": [
              "<Figure size 432x288 with 2 Axes>"
            ]
          },
          "metadata": {
            "needs_background": "light"
          }
        },
        {
          "output_type": "stream",
          "name": "stdout",
          "text": [
            "Precision: 0.4626865671641791\n",
            "Sensibilidad: 0.4626865671641791\n"
          ]
        }
      ]
    }
  ]
}